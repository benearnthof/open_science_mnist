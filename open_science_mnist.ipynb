{
  "nbformat": 4,
  "nbformat_minor": 0,
  "metadata": {
    "colab": {
      "provenance": []
    },
    "kernelspec": {
      "name": "python3",
      "display_name": "Python 3"
    },
    "language_info": {
      "name": "python"
    },
    "gpuClass": "standard"
  },
  "cells": [
    {
      "cell_type": "markdown",
      "source": [],
      "metadata": {
        "id": "liBFQzYKKyG_"
      }
    },
    {
      "cell_type": "markdown",
      "source": [
        "# Project Setup\n",
        "We first check what we are working with and will set the colab environment up to meet our requirements. "
      ],
      "metadata": {
        "id": "JkUIflXtK-0n"
      }
    },
    {
      "cell_type": "markdown",
      "source": [
        "## Step 1: Clone the repository"
      ],
      "metadata": {
        "id": "iaKr04nkLcoH"
      }
    },
    {
      "cell_type": "code",
      "source": [
        "!git clone https://github.com/benearnthof/open_science_mnist.git"
      ],
      "metadata": {
        "colab": {
          "base_uri": "https://localhost:8080/"
        },
        "id": "-IwDqNF7LvvZ",
        "outputId": "9ca42f47-8fb3-41eb-c9b6-652a9237ae1e"
      },
      "execution_count": 3,
      "outputs": [
        {
          "output_type": "stream",
          "name": "stdout",
          "text": [
            "Cloning into 'open_science_mnist'...\n",
            "remote: Enumerating objects: 7, done.\u001b[K\n",
            "remote: Counting objects: 100% (7/7), done.\u001b[K\n",
            "remote: Compressing objects: 100% (7/7), done.\u001b[K\n",
            "remote: Total 7 (delta 1), reused 0 (delta 0), pack-reused 0\u001b[K\n",
            "Unpacking objects: 100% (7/7), done.\n"
          ]
        }
      ]
    },
    {
      "cell_type": "code",
      "execution_count": 1,
      "metadata": {
        "colab": {
          "base_uri": "https://localhost:8080/"
        },
        "id": "BURh6NggJ3Qc",
        "outputId": "f39dd67e-4c6d-4728-f79d-12e81b090768"
      },
      "outputs": [
        {
          "output_type": "stream",
          "name": "stdout",
          "text": [
            "open_science_mnist  sample_data\n"
          ]
        }
      ],
      "source": [
        "# if we connected to a runtime in colab we should see two folders here: \n",
        "# 'open_science_mnist' & 'sample_data'\n",
        "!ls"
      ]
    },
    {
      "cell_type": "code",
      "source": [
        "# sample_data contains mnist in .csv form, we will download the official version of the dataset later. \n",
        "# for now we switch to the root directory of our project\n",
        "%cd /content/open_science_mnist\n",
        "!pwd"
      ],
      "metadata": {
        "colab": {
          "base_uri": "https://localhost:8080/"
        },
        "id": "FbpyV97FJ-bT",
        "outputId": "5eb00395-b080-422a-84a5-1bfe153e42e4"
      },
      "execution_count": 2,
      "outputs": [
        {
          "output_type": "stream",
          "name": "stdout",
          "text": [
            "/content/open_science_mnist\n",
            "/content/open_science_mnist\n"
          ]
        }
      ]
    },
    {
      "cell_type": "code",
      "source": [
        "# We are working with pip version 22.0.4 and python 3.8\n",
        "!pip --version"
      ],
      "metadata": {
        "colab": {
          "base_uri": "https://localhost:8080/"
        },
        "id": "ydvcgbNaM3un",
        "outputId": "d3f55a0d-f067-4c64-c566-7f899260cf6c"
      },
      "execution_count": 3,
      "outputs": [
        {
          "output_type": "stream",
          "name": "stdout",
          "text": [
            "pip 22.0.4 from /usr/local/lib/python3.8/dist-packages/pip (python 3.8)\n"
          ]
        }
      ]
    },
    {
      "cell_type": "code",
      "source": [
        "# installing pipenv\n",
        "!pip install --user pipenv"
      ],
      "metadata": {
        "colab": {
          "base_uri": "https://localhost:8080/"
        },
        "id": "A-PV25brKZUN",
        "outputId": "4fe54d5f-31c8-4c4d-ce22-d21a030e119e"
      },
      "execution_count": 1,
      "outputs": [
        {
          "output_type": "stream",
          "name": "stdout",
          "text": [
            "Looking in indexes: https://pypi.org/simple, https://us-python.pkg.dev/colab-wheels/public/simple/\n",
            "Collecting pipenv\n",
            "  Downloading pipenv-2022.12.19-py3-none-any.whl (2.9 MB)\n",
            "\u001b[2K     \u001b[90m━━━━━━━━━━━━━━━━━━━━━━━━━━━━━━━━━━━━━━━━\u001b[0m \u001b[32m2.9/2.9 MB\u001b[0m \u001b[31m45.2 MB/s\u001b[0m eta \u001b[36m0:00:00\u001b[0m\n",
            "\u001b[?25hRequirement already satisfied: setuptools>=36.2.1 in /usr/local/lib/python3.8/dist-packages (from pipenv) (57.4.0)\n",
            "Collecting virtualenv-clone>=0.2.5\n",
            "  Downloading virtualenv_clone-0.5.7-py3-none-any.whl (6.6 kB)\n",
            "Requirement already satisfied: certifi in /usr/local/lib/python3.8/dist-packages (from pipenv) (2022.12.7)\n",
            "Collecting virtualenv\n",
            "  Downloading virtualenv-20.17.1-py3-none-any.whl (8.8 MB)\n",
            "\u001b[2K     \u001b[90m━━━━━━━━━━━━━━━━━━━━━━━━━━━━━━━━━━━━━━━━\u001b[0m \u001b[32m8.8/8.8 MB\u001b[0m \u001b[31m98.0 MB/s\u001b[0m eta \u001b[36m0:00:00\u001b[0m\n",
            "\u001b[?25hRequirement already satisfied: platformdirs<3,>=2.4 in /usr/local/lib/python3.8/dist-packages (from virtualenv->pipenv) (2.6.0)\n",
            "Collecting distlib<1,>=0.3.6\n",
            "  Downloading distlib-0.3.6-py2.py3-none-any.whl (468 kB)\n",
            "\u001b[2K     \u001b[90m━━━━━━━━━━━━━━━━━━━━━━━━━━━━━━━━━━━━━━\u001b[0m \u001b[32m468.5/468.5 KB\u001b[0m \u001b[31m45.1 MB/s\u001b[0m eta \u001b[36m0:00:00\u001b[0m\n",
            "\u001b[?25hRequirement already satisfied: filelock<4,>=3.4.1 in /usr/local/lib/python3.8/dist-packages (from virtualenv->pipenv) (3.8.2)\n",
            "Installing collected packages: distlib, virtualenv-clone, virtualenv, pipenv\n",
            "\u001b[33m  WARNING: The script virtualenv-clone is installed in '/root/.local/bin' which is not on PATH.\n",
            "  Consider adding this directory to PATH or, if you prefer to suppress this warning, use --no-warn-script-location.\u001b[0m\u001b[33m\n",
            "\u001b[0m\u001b[33m  WARNING: The script virtualenv is installed in '/root/.local/bin' which is not on PATH.\n",
            "  Consider adding this directory to PATH or, if you prefer to suppress this warning, use --no-warn-script-location.\u001b[0m\u001b[33m\n",
            "\u001b[0m\u001b[33m  WARNING: The scripts pipenv and pipenv-resolver are installed in '/root/.local/bin' which is not on PATH.\n",
            "  Consider adding this directory to PATH or, if you prefer to suppress this warning, use --no-warn-script-location.\u001b[0m\u001b[33m\n",
            "\u001b[0mSuccessfully installed distlib-0.3.6 pipenv-2022.12.19 virtualenv-20.17.1 virtualenv-clone-0.5.7\n"
          ]
        }
      ]
    },
    {
      "cell_type": "code",
      "source": [
        "# add the location of the pipenv scripts to $PATH\n",
        "import os\n",
        "os.environ['PATH'] += ':/root/.local/bin'"
      ],
      "metadata": {
        "id": "nIfzulNsOygm"
      },
      "execution_count": 4,
      "outputs": []
    },
    {
      "cell_type": "code",
      "source": [
        "# this should now have /root/.local/bin added at the end\n",
        "! echo $PATH"
      ],
      "metadata": {
        "colab": {
          "base_uri": "https://localhost:8080/"
        },
        "id": "aNbVpoorPQIj",
        "outputId": "45233a87-b188-4ff5-9090-f07b7e3774fa"
      },
      "execution_count": 5,
      "outputs": [
        {
          "output_type": "stream",
          "name": "stdout",
          "text": [
            "/opt/bin:/usr/local/nvidia/bin:/usr/local/cuda/bin:/usr/local/sbin:/usr/local/bin:/usr/sbin:/usr/bin:/sbin:/bin:/tools/node/bin:/tools/google-cloud-sdk/bin:/root/.local/bin\n"
          ]
        }
      ]
    },
    {
      "cell_type": "code",
      "source": [
        "# setting up a virtualenv for this project\n",
        "!pipenv install"
      ],
      "metadata": {
        "colab": {
          "base_uri": "https://localhost:8080/"
        },
        "id": "damnqOkoP0Fq",
        "outputId": "6e4a18a5-51a3-4965-80bf-a6df5abcc462"
      },
      "execution_count": 9,
      "outputs": [
        {
          "output_type": "stream",
          "name": "stdout",
          "text": [
            "\u001b[1mCreating a virtualenv for this project...\u001b[0m\n",
            "Pipfile: \u001b[33m\u001b[1m/content/Pipfile\u001b[0m\n",
            "\u001b[1mUsing\u001b[0m \u001b[33m\u001b[1m/usr/local/bin/python\u001b[0m \u001b[32m(3.8.16)\u001b[0m \u001b[1mto create virtualenv...\u001b[0m\n",
            "\u001b[2K\u001b[32m⠸\u001b[0m Creating virtual environment...\u001b[36mcreated virtual environment CPython3.8.16.final.0-64 in 1011ms\n",
            "  creator CPython3Posix(dest=/root/.local/share/virtualenvs/content-cQIIIOO2, clear=False, no_vcs_ignore=False, global=False)\n",
            "  seeder FromAppData(download=False, pip=bundle, setuptools=bundle, wheel=bundle, via=copy, app_data_dir=/root/.local/share/virtualenv)\n",
            "    added seed packages: pip==22.3.1, setuptools==65.6.3, wheel==0.38.4\n",
            "  activators BashActivator,CShellActivator,FishActivator,NushellActivator,PowerShellActivator,PythonActivator\n",
            "\u001b[0m\n",
            "\u001b[2K\u001b[32m⠼\u001b[0m Creating virtual environment...✔ Successfully created virtual environment!\n",
            "\u001b[2K\u001b[32m⠼\u001b[0m Creating virtual environment...\n",
            "\u001b[1A\u001b[2K\u001b[32mVirtualenv location: /root/.local/share/virtualenvs/content-cQIIIOO2\u001b[0m\n",
            "\u001b[1mCreating a Pipfile for this project...\u001b[0m\n",
            "\u001b[1mPipfile.lock not found, creating...\u001b[0m\n",
            "Locking\u001b[0m \u001b[33m[packages]\u001b[0m dependencies...\u001b[0m\n",
            "Locking\u001b[0m \u001b[33m[dev-packages]\u001b[0m dependencies...\u001b[0m\n",
            "\u001b[1mUpdated Pipfile.lock (7f7606f08e0544d8d012ef4d097dabdd6df6843a28793eb6551245d4b2db4242)!\u001b[0m\n",
            "\u001b[1mInstalling dependencies from Pipfile.lock (db4242)...\u001b[0m\n",
            "To activate this project's virtualenv, run \u001b[33mpipenv shell\u001b[0m.\n",
            "Alternatively, run a command inside the virtualenv with \u001b[33mpipenv run\u001b[0m.\n"
          ]
        }
      ]
    },
    {
      "cell_type": "code",
      "source": [
        "!pipenv install requests"
      ],
      "metadata": {
        "colab": {
          "base_uri": "https://localhost:8080/"
        },
        "id": "AVk5EaArQLKP",
        "outputId": "84ceffcc-7589-46c9-9e3c-e5f0d0155f86"
      },
      "execution_count": 12,
      "outputs": [
        {
          "output_type": "stream",
          "name": "stdout",
          "text": [
            "\u001b[32m\u001b[1mInstalling requests...\u001b[0m\n",
            "\u001b[2K\u001b[32m⠏\u001b[0m ✔ Installation Succeeded\n",
            "\u001b[1A\u001b[2K\u001b[33m\u001b[1mPipfile.lock (db4242) out of date, updating to (fbd99e)...\u001b[0m\n",
            "Locking\u001b[0m \u001b[33m[packages]\u001b[0m dependencies...\u001b[0m\n",
            "\u001b[2K\u001b[32m⠧\u001b[0m ✔ Success!\n",
            "\u001b[1A\u001b[2KLocking\u001b[0m \u001b[33m[dev-packages]\u001b[0m dependencies...\u001b[0m\n",
            "\u001b[1mUpdated Pipfile.lock (acbc8c4e7f2f98f1059b2a93d581ef43f4aa0c9741e64e6253adff8e35fbd99e)!\u001b[0m\n",
            "\u001b[1mInstalling dependencies from Pipfile.lock (fbd99e)...\u001b[0m\n",
            "To activate this project's virtualenv, run \u001b[33mpipenv shell\u001b[0m.\n",
            "Alternatively, run a command inside the virtualenv with \u001b[33mpipenv run\u001b[0m.\n"
          ]
        }
      ]
    },
    {
      "cell_type": "code",
      "source": [
        "!pipenv graph"
      ],
      "metadata": {
        "colab": {
          "base_uri": "https://localhost:8080/"
        },
        "id": "7vLpUmOSTglB",
        "outputId": "1e829cd5-edfd-4214-efe0-2d4fadce85d3"
      },
      "execution_count": 14,
      "outputs": [
        {
          "output_type": "stream",
          "name": "stdout",
          "text": [
            "\u001b[1mrequests==2.28.1\u001b[0m\n",
            "\u001b[22m  - certifi [required: >=2017.4.17, installed: 2022.12.7]\u001b[0m\n",
            "\u001b[22m  - charset-normalizer [required: >=2,<3, installed: 2.1.1]\u001b[0m\n",
            "\u001b[22m  - idna [required: >=2.5,<4, installed: 3.4]\u001b[0m\n",
            "\u001b[22m  - urllib3 [required: >=1.21.1,<1.27, installed: 1.26.13]\u001b[0m\n"
          ]
        }
      ]
    },
    {
      "cell_type": "markdown",
      "source": [
        "If the environment setup worked, the command above should have produced a dependency graph of the required packages. We will now proceed with running our experiments."
      ],
      "metadata": {
        "id": "LtmMaPhWUGlw"
      }
    },
    {
      "cell_type": "markdown",
      "source": [
        "# Step 2: Importing the Dataset"
      ],
      "metadata": {
        "id": "4WKVthi4UZyI"
      }
    },
    {
      "cell_type": "code",
      "source": [],
      "metadata": {
        "id": "c0XG56OpUZCB"
      },
      "execution_count": null,
      "outputs": []
    }
  ]
}