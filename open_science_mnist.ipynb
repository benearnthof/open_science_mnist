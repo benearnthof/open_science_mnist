{
  "nbformat": 4,
  "nbformat_minor": 0,
  "metadata": {
    "colab": {
      "provenance": []
    },
    "kernelspec": {
      "name": "python3",
      "display_name": "Python 3"
    },
    "language_info": {
      "name": "python"
    },
    "gpuClass": "standard",
    "widgets": {
      "application/vnd.jupyter.widget-state+json": {
        "e7436ef5ae414fac8666f0ca05f6452a": {
          "model_module": "@jupyter-widgets/controls",
          "model_name": "HBoxModel",
          "model_module_version": "1.5.0",
          "state": {
            "_dom_classes": [],
            "_model_module": "@jupyter-widgets/controls",
            "_model_module_version": "1.5.0",
            "_model_name": "HBoxModel",
            "_view_count": null,
            "_view_module": "@jupyter-widgets/controls",
            "_view_module_version": "1.5.0",
            "_view_name": "HBoxView",
            "box_style": "",
            "children": [
              "IPY_MODEL_adf52e6e18f349c596190b63e80105f0",
              "IPY_MODEL_55f0b7fcdf014575913a2a551d74cd36",
              "IPY_MODEL_311f0239eb1445eeb3d015e3e77a5e3f"
            ],
            "layout": "IPY_MODEL_fa00ff7cd78a4557984fa2af06de8e91"
          }
        },
        "adf52e6e18f349c596190b63e80105f0": {
          "model_module": "@jupyter-widgets/controls",
          "model_name": "HTMLModel",
          "model_module_version": "1.5.0",
          "state": {
            "_dom_classes": [],
            "_model_module": "@jupyter-widgets/controls",
            "_model_module_version": "1.5.0",
            "_model_name": "HTMLModel",
            "_view_count": null,
            "_view_module": "@jupyter-widgets/controls",
            "_view_module_version": "1.5.0",
            "_view_name": "HTMLView",
            "description": "",
            "description_tooltip": null,
            "layout": "IPY_MODEL_12ff457da9294b27b9e95405da959d73",
            "placeholder": "​",
            "style": "IPY_MODEL_0288772aa1d1493aab92cad42344d031",
            "value": "100%"
          }
        },
        "55f0b7fcdf014575913a2a551d74cd36": {
          "model_module": "@jupyter-widgets/controls",
          "model_name": "FloatProgressModel",
          "model_module_version": "1.5.0",
          "state": {
            "_dom_classes": [],
            "_model_module": "@jupyter-widgets/controls",
            "_model_module_version": "1.5.0",
            "_model_name": "FloatProgressModel",
            "_view_count": null,
            "_view_module": "@jupyter-widgets/controls",
            "_view_module_version": "1.5.0",
            "_view_name": "ProgressView",
            "bar_style": "success",
            "description": "",
            "description_tooltip": null,
            "layout": "IPY_MODEL_afaa8e0031f748619fbf793e32e56db1",
            "max": 9912422,
            "min": 0,
            "orientation": "horizontal",
            "style": "IPY_MODEL_2c668ec694384c1fa62e4d0cf79ad0e0",
            "value": 9912422
          }
        },
        "311f0239eb1445eeb3d015e3e77a5e3f": {
          "model_module": "@jupyter-widgets/controls",
          "model_name": "HTMLModel",
          "model_module_version": "1.5.0",
          "state": {
            "_dom_classes": [],
            "_model_module": "@jupyter-widgets/controls",
            "_model_module_version": "1.5.0",
            "_model_name": "HTMLModel",
            "_view_count": null,
            "_view_module": "@jupyter-widgets/controls",
            "_view_module_version": "1.5.0",
            "_view_name": "HTMLView",
            "description": "",
            "description_tooltip": null,
            "layout": "IPY_MODEL_68042ad517024fff82f7bfee952535e4",
            "placeholder": "​",
            "style": "IPY_MODEL_dcc674cbbe71459eaae3d7e64cd2de48",
            "value": " 9912422/9912422 [00:00&lt;00:00, 38320323.99it/s]"
          }
        },
        "fa00ff7cd78a4557984fa2af06de8e91": {
          "model_module": "@jupyter-widgets/base",
          "model_name": "LayoutModel",
          "model_module_version": "1.2.0",
          "state": {
            "_model_module": "@jupyter-widgets/base",
            "_model_module_version": "1.2.0",
            "_model_name": "LayoutModel",
            "_view_count": null,
            "_view_module": "@jupyter-widgets/base",
            "_view_module_version": "1.2.0",
            "_view_name": "LayoutView",
            "align_content": null,
            "align_items": null,
            "align_self": null,
            "border": null,
            "bottom": null,
            "display": null,
            "flex": null,
            "flex_flow": null,
            "grid_area": null,
            "grid_auto_columns": null,
            "grid_auto_flow": null,
            "grid_auto_rows": null,
            "grid_column": null,
            "grid_gap": null,
            "grid_row": null,
            "grid_template_areas": null,
            "grid_template_columns": null,
            "grid_template_rows": null,
            "height": null,
            "justify_content": null,
            "justify_items": null,
            "left": null,
            "margin": null,
            "max_height": null,
            "max_width": null,
            "min_height": null,
            "min_width": null,
            "object_fit": null,
            "object_position": null,
            "order": null,
            "overflow": null,
            "overflow_x": null,
            "overflow_y": null,
            "padding": null,
            "right": null,
            "top": null,
            "visibility": null,
            "width": null
          }
        },
        "12ff457da9294b27b9e95405da959d73": {
          "model_module": "@jupyter-widgets/base",
          "model_name": "LayoutModel",
          "model_module_version": "1.2.0",
          "state": {
            "_model_module": "@jupyter-widgets/base",
            "_model_module_version": "1.2.0",
            "_model_name": "LayoutModel",
            "_view_count": null,
            "_view_module": "@jupyter-widgets/base",
            "_view_module_version": "1.2.0",
            "_view_name": "LayoutView",
            "align_content": null,
            "align_items": null,
            "align_self": null,
            "border": null,
            "bottom": null,
            "display": null,
            "flex": null,
            "flex_flow": null,
            "grid_area": null,
            "grid_auto_columns": null,
            "grid_auto_flow": null,
            "grid_auto_rows": null,
            "grid_column": null,
            "grid_gap": null,
            "grid_row": null,
            "grid_template_areas": null,
            "grid_template_columns": null,
            "grid_template_rows": null,
            "height": null,
            "justify_content": null,
            "justify_items": null,
            "left": null,
            "margin": null,
            "max_height": null,
            "max_width": null,
            "min_height": null,
            "min_width": null,
            "object_fit": null,
            "object_position": null,
            "order": null,
            "overflow": null,
            "overflow_x": null,
            "overflow_y": null,
            "padding": null,
            "right": null,
            "top": null,
            "visibility": null,
            "width": null
          }
        },
        "0288772aa1d1493aab92cad42344d031": {
          "model_module": "@jupyter-widgets/controls",
          "model_name": "DescriptionStyleModel",
          "model_module_version": "1.5.0",
          "state": {
            "_model_module": "@jupyter-widgets/controls",
            "_model_module_version": "1.5.0",
            "_model_name": "DescriptionStyleModel",
            "_view_count": null,
            "_view_module": "@jupyter-widgets/base",
            "_view_module_version": "1.2.0",
            "_view_name": "StyleView",
            "description_width": ""
          }
        },
        "afaa8e0031f748619fbf793e32e56db1": {
          "model_module": "@jupyter-widgets/base",
          "model_name": "LayoutModel",
          "model_module_version": "1.2.0",
          "state": {
            "_model_module": "@jupyter-widgets/base",
            "_model_module_version": "1.2.0",
            "_model_name": "LayoutModel",
            "_view_count": null,
            "_view_module": "@jupyter-widgets/base",
            "_view_module_version": "1.2.0",
            "_view_name": "LayoutView",
            "align_content": null,
            "align_items": null,
            "align_self": null,
            "border": null,
            "bottom": null,
            "display": null,
            "flex": null,
            "flex_flow": null,
            "grid_area": null,
            "grid_auto_columns": null,
            "grid_auto_flow": null,
            "grid_auto_rows": null,
            "grid_column": null,
            "grid_gap": null,
            "grid_row": null,
            "grid_template_areas": null,
            "grid_template_columns": null,
            "grid_template_rows": null,
            "height": null,
            "justify_content": null,
            "justify_items": null,
            "left": null,
            "margin": null,
            "max_height": null,
            "max_width": null,
            "min_height": null,
            "min_width": null,
            "object_fit": null,
            "object_position": null,
            "order": null,
            "overflow": null,
            "overflow_x": null,
            "overflow_y": null,
            "padding": null,
            "right": null,
            "top": null,
            "visibility": null,
            "width": null
          }
        },
        "2c668ec694384c1fa62e4d0cf79ad0e0": {
          "model_module": "@jupyter-widgets/controls",
          "model_name": "ProgressStyleModel",
          "model_module_version": "1.5.0",
          "state": {
            "_model_module": "@jupyter-widgets/controls",
            "_model_module_version": "1.5.0",
            "_model_name": "ProgressStyleModel",
            "_view_count": null,
            "_view_module": "@jupyter-widgets/base",
            "_view_module_version": "1.2.0",
            "_view_name": "StyleView",
            "bar_color": null,
            "description_width": ""
          }
        },
        "68042ad517024fff82f7bfee952535e4": {
          "model_module": "@jupyter-widgets/base",
          "model_name": "LayoutModel",
          "model_module_version": "1.2.0",
          "state": {
            "_model_module": "@jupyter-widgets/base",
            "_model_module_version": "1.2.0",
            "_model_name": "LayoutModel",
            "_view_count": null,
            "_view_module": "@jupyter-widgets/base",
            "_view_module_version": "1.2.0",
            "_view_name": "LayoutView",
            "align_content": null,
            "align_items": null,
            "align_self": null,
            "border": null,
            "bottom": null,
            "display": null,
            "flex": null,
            "flex_flow": null,
            "grid_area": null,
            "grid_auto_columns": null,
            "grid_auto_flow": null,
            "grid_auto_rows": null,
            "grid_column": null,
            "grid_gap": null,
            "grid_row": null,
            "grid_template_areas": null,
            "grid_template_columns": null,
            "grid_template_rows": null,
            "height": null,
            "justify_content": null,
            "justify_items": null,
            "left": null,
            "margin": null,
            "max_height": null,
            "max_width": null,
            "min_height": null,
            "min_width": null,
            "object_fit": null,
            "object_position": null,
            "order": null,
            "overflow": null,
            "overflow_x": null,
            "overflow_y": null,
            "padding": null,
            "right": null,
            "top": null,
            "visibility": null,
            "width": null
          }
        },
        "dcc674cbbe71459eaae3d7e64cd2de48": {
          "model_module": "@jupyter-widgets/controls",
          "model_name": "DescriptionStyleModel",
          "model_module_version": "1.5.0",
          "state": {
            "_model_module": "@jupyter-widgets/controls",
            "_model_module_version": "1.5.0",
            "_model_name": "DescriptionStyleModel",
            "_view_count": null,
            "_view_module": "@jupyter-widgets/base",
            "_view_module_version": "1.2.0",
            "_view_name": "StyleView",
            "description_width": ""
          }
        },
        "d776dcdb665c4a58a53d06be5c28273b": {
          "model_module": "@jupyter-widgets/controls",
          "model_name": "HBoxModel",
          "model_module_version": "1.5.0",
          "state": {
            "_dom_classes": [],
            "_model_module": "@jupyter-widgets/controls",
            "_model_module_version": "1.5.0",
            "_model_name": "HBoxModel",
            "_view_count": null,
            "_view_module": "@jupyter-widgets/controls",
            "_view_module_version": "1.5.0",
            "_view_name": "HBoxView",
            "box_style": "",
            "children": [
              "IPY_MODEL_72e30382fcbf46c78573ae92eb537dcb",
              "IPY_MODEL_16353e64281c440fb7f19c1b3f1f21b8",
              "IPY_MODEL_d79dd3a4f80048aea3fbb07c0a3876d8"
            ],
            "layout": "IPY_MODEL_50ae4aecb93846b3aa7b65d62b7eca67"
          }
        },
        "72e30382fcbf46c78573ae92eb537dcb": {
          "model_module": "@jupyter-widgets/controls",
          "model_name": "HTMLModel",
          "model_module_version": "1.5.0",
          "state": {
            "_dom_classes": [],
            "_model_module": "@jupyter-widgets/controls",
            "_model_module_version": "1.5.0",
            "_model_name": "HTMLModel",
            "_view_count": null,
            "_view_module": "@jupyter-widgets/controls",
            "_view_module_version": "1.5.0",
            "_view_name": "HTMLView",
            "description": "",
            "description_tooltip": null,
            "layout": "IPY_MODEL_c5fd7019d3f942ee94c1a2440bb36325",
            "placeholder": "​",
            "style": "IPY_MODEL_631de3bbb89b4a4f91e6d675d1ea939e",
            "value": "100%"
          }
        },
        "16353e64281c440fb7f19c1b3f1f21b8": {
          "model_module": "@jupyter-widgets/controls",
          "model_name": "FloatProgressModel",
          "model_module_version": "1.5.0",
          "state": {
            "_dom_classes": [],
            "_model_module": "@jupyter-widgets/controls",
            "_model_module_version": "1.5.0",
            "_model_name": "FloatProgressModel",
            "_view_count": null,
            "_view_module": "@jupyter-widgets/controls",
            "_view_module_version": "1.5.0",
            "_view_name": "ProgressView",
            "bar_style": "success",
            "description": "",
            "description_tooltip": null,
            "layout": "IPY_MODEL_4db9aec8adb246578654e593f2a1359c",
            "max": 28881,
            "min": 0,
            "orientation": "horizontal",
            "style": "IPY_MODEL_753e88ca7216430fb6fbf78451e4691f",
            "value": 28881
          }
        },
        "d79dd3a4f80048aea3fbb07c0a3876d8": {
          "model_module": "@jupyter-widgets/controls",
          "model_name": "HTMLModel",
          "model_module_version": "1.5.0",
          "state": {
            "_dom_classes": [],
            "_model_module": "@jupyter-widgets/controls",
            "_model_module_version": "1.5.0",
            "_model_name": "HTMLModel",
            "_view_count": null,
            "_view_module": "@jupyter-widgets/controls",
            "_view_module_version": "1.5.0",
            "_view_name": "HTMLView",
            "description": "",
            "description_tooltip": null,
            "layout": "IPY_MODEL_3ac55f6d89bf4d8483158fc90f0481fe",
            "placeholder": "​",
            "style": "IPY_MODEL_8eb79dde985c476286b269ae30446677",
            "value": " 28881/28881 [00:00&lt;00:00, 1133656.15it/s]"
          }
        },
        "50ae4aecb93846b3aa7b65d62b7eca67": {
          "model_module": "@jupyter-widgets/base",
          "model_name": "LayoutModel",
          "model_module_version": "1.2.0",
          "state": {
            "_model_module": "@jupyter-widgets/base",
            "_model_module_version": "1.2.0",
            "_model_name": "LayoutModel",
            "_view_count": null,
            "_view_module": "@jupyter-widgets/base",
            "_view_module_version": "1.2.0",
            "_view_name": "LayoutView",
            "align_content": null,
            "align_items": null,
            "align_self": null,
            "border": null,
            "bottom": null,
            "display": null,
            "flex": null,
            "flex_flow": null,
            "grid_area": null,
            "grid_auto_columns": null,
            "grid_auto_flow": null,
            "grid_auto_rows": null,
            "grid_column": null,
            "grid_gap": null,
            "grid_row": null,
            "grid_template_areas": null,
            "grid_template_columns": null,
            "grid_template_rows": null,
            "height": null,
            "justify_content": null,
            "justify_items": null,
            "left": null,
            "margin": null,
            "max_height": null,
            "max_width": null,
            "min_height": null,
            "min_width": null,
            "object_fit": null,
            "object_position": null,
            "order": null,
            "overflow": null,
            "overflow_x": null,
            "overflow_y": null,
            "padding": null,
            "right": null,
            "top": null,
            "visibility": null,
            "width": null
          }
        },
        "c5fd7019d3f942ee94c1a2440bb36325": {
          "model_module": "@jupyter-widgets/base",
          "model_name": "LayoutModel",
          "model_module_version": "1.2.0",
          "state": {
            "_model_module": "@jupyter-widgets/base",
            "_model_module_version": "1.2.0",
            "_model_name": "LayoutModel",
            "_view_count": null,
            "_view_module": "@jupyter-widgets/base",
            "_view_module_version": "1.2.0",
            "_view_name": "LayoutView",
            "align_content": null,
            "align_items": null,
            "align_self": null,
            "border": null,
            "bottom": null,
            "display": null,
            "flex": null,
            "flex_flow": null,
            "grid_area": null,
            "grid_auto_columns": null,
            "grid_auto_flow": null,
            "grid_auto_rows": null,
            "grid_column": null,
            "grid_gap": null,
            "grid_row": null,
            "grid_template_areas": null,
            "grid_template_columns": null,
            "grid_template_rows": null,
            "height": null,
            "justify_content": null,
            "justify_items": null,
            "left": null,
            "margin": null,
            "max_height": null,
            "max_width": null,
            "min_height": null,
            "min_width": null,
            "object_fit": null,
            "object_position": null,
            "order": null,
            "overflow": null,
            "overflow_x": null,
            "overflow_y": null,
            "padding": null,
            "right": null,
            "top": null,
            "visibility": null,
            "width": null
          }
        },
        "631de3bbb89b4a4f91e6d675d1ea939e": {
          "model_module": "@jupyter-widgets/controls",
          "model_name": "DescriptionStyleModel",
          "model_module_version": "1.5.0",
          "state": {
            "_model_module": "@jupyter-widgets/controls",
            "_model_module_version": "1.5.0",
            "_model_name": "DescriptionStyleModel",
            "_view_count": null,
            "_view_module": "@jupyter-widgets/base",
            "_view_module_version": "1.2.0",
            "_view_name": "StyleView",
            "description_width": ""
          }
        },
        "4db9aec8adb246578654e593f2a1359c": {
          "model_module": "@jupyter-widgets/base",
          "model_name": "LayoutModel",
          "model_module_version": "1.2.0",
          "state": {
            "_model_module": "@jupyter-widgets/base",
            "_model_module_version": "1.2.0",
            "_model_name": "LayoutModel",
            "_view_count": null,
            "_view_module": "@jupyter-widgets/base",
            "_view_module_version": "1.2.0",
            "_view_name": "LayoutView",
            "align_content": null,
            "align_items": null,
            "align_self": null,
            "border": null,
            "bottom": null,
            "display": null,
            "flex": null,
            "flex_flow": null,
            "grid_area": null,
            "grid_auto_columns": null,
            "grid_auto_flow": null,
            "grid_auto_rows": null,
            "grid_column": null,
            "grid_gap": null,
            "grid_row": null,
            "grid_template_areas": null,
            "grid_template_columns": null,
            "grid_template_rows": null,
            "height": null,
            "justify_content": null,
            "justify_items": null,
            "left": null,
            "margin": null,
            "max_height": null,
            "max_width": null,
            "min_height": null,
            "min_width": null,
            "object_fit": null,
            "object_position": null,
            "order": null,
            "overflow": null,
            "overflow_x": null,
            "overflow_y": null,
            "padding": null,
            "right": null,
            "top": null,
            "visibility": null,
            "width": null
          }
        },
        "753e88ca7216430fb6fbf78451e4691f": {
          "model_module": "@jupyter-widgets/controls",
          "model_name": "ProgressStyleModel",
          "model_module_version": "1.5.0",
          "state": {
            "_model_module": "@jupyter-widgets/controls",
            "_model_module_version": "1.5.0",
            "_model_name": "ProgressStyleModel",
            "_view_count": null,
            "_view_module": "@jupyter-widgets/base",
            "_view_module_version": "1.2.0",
            "_view_name": "StyleView",
            "bar_color": null,
            "description_width": ""
          }
        },
        "3ac55f6d89bf4d8483158fc90f0481fe": {
          "model_module": "@jupyter-widgets/base",
          "model_name": "LayoutModel",
          "model_module_version": "1.2.0",
          "state": {
            "_model_module": "@jupyter-widgets/base",
            "_model_module_version": "1.2.0",
            "_model_name": "LayoutModel",
            "_view_count": null,
            "_view_module": "@jupyter-widgets/base",
            "_view_module_version": "1.2.0",
            "_view_name": "LayoutView",
            "align_content": null,
            "align_items": null,
            "align_self": null,
            "border": null,
            "bottom": null,
            "display": null,
            "flex": null,
            "flex_flow": null,
            "grid_area": null,
            "grid_auto_columns": null,
            "grid_auto_flow": null,
            "grid_auto_rows": null,
            "grid_column": null,
            "grid_gap": null,
            "grid_row": null,
            "grid_template_areas": null,
            "grid_template_columns": null,
            "grid_template_rows": null,
            "height": null,
            "justify_content": null,
            "justify_items": null,
            "left": null,
            "margin": null,
            "max_height": null,
            "max_width": null,
            "min_height": null,
            "min_width": null,
            "object_fit": null,
            "object_position": null,
            "order": null,
            "overflow": null,
            "overflow_x": null,
            "overflow_y": null,
            "padding": null,
            "right": null,
            "top": null,
            "visibility": null,
            "width": null
          }
        },
        "8eb79dde985c476286b269ae30446677": {
          "model_module": "@jupyter-widgets/controls",
          "model_name": "DescriptionStyleModel",
          "model_module_version": "1.5.0",
          "state": {
            "_model_module": "@jupyter-widgets/controls",
            "_model_module_version": "1.5.0",
            "_model_name": "DescriptionStyleModel",
            "_view_count": null,
            "_view_module": "@jupyter-widgets/base",
            "_view_module_version": "1.2.0",
            "_view_name": "StyleView",
            "description_width": ""
          }
        },
        "438605b442f24f978f231ba2184cd50e": {
          "model_module": "@jupyter-widgets/controls",
          "model_name": "HBoxModel",
          "model_module_version": "1.5.0",
          "state": {
            "_dom_classes": [],
            "_model_module": "@jupyter-widgets/controls",
            "_model_module_version": "1.5.0",
            "_model_name": "HBoxModel",
            "_view_count": null,
            "_view_module": "@jupyter-widgets/controls",
            "_view_module_version": "1.5.0",
            "_view_name": "HBoxView",
            "box_style": "",
            "children": [
              "IPY_MODEL_14fef5c248aa4f9db6ddd99a38df9c62",
              "IPY_MODEL_4d64ec1866c0448da1b67ec1b5a411ea",
              "IPY_MODEL_ba54893b2c6d45a7aca1a00231a25c8c"
            ],
            "layout": "IPY_MODEL_9fec088de18c4d8987b538b1ae019021"
          }
        },
        "14fef5c248aa4f9db6ddd99a38df9c62": {
          "model_module": "@jupyter-widgets/controls",
          "model_name": "HTMLModel",
          "model_module_version": "1.5.0",
          "state": {
            "_dom_classes": [],
            "_model_module": "@jupyter-widgets/controls",
            "_model_module_version": "1.5.0",
            "_model_name": "HTMLModel",
            "_view_count": null,
            "_view_module": "@jupyter-widgets/controls",
            "_view_module_version": "1.5.0",
            "_view_name": "HTMLView",
            "description": "",
            "description_tooltip": null,
            "layout": "IPY_MODEL_9d2e564cd43b4cb69a9bb6be33ea0305",
            "placeholder": "​",
            "style": "IPY_MODEL_9208248f6d724a86894afbae64a67a7b",
            "value": "100%"
          }
        },
        "4d64ec1866c0448da1b67ec1b5a411ea": {
          "model_module": "@jupyter-widgets/controls",
          "model_name": "FloatProgressModel",
          "model_module_version": "1.5.0",
          "state": {
            "_dom_classes": [],
            "_model_module": "@jupyter-widgets/controls",
            "_model_module_version": "1.5.0",
            "_model_name": "FloatProgressModel",
            "_view_count": null,
            "_view_module": "@jupyter-widgets/controls",
            "_view_module_version": "1.5.0",
            "_view_name": "ProgressView",
            "bar_style": "success",
            "description": "",
            "description_tooltip": null,
            "layout": "IPY_MODEL_f004c86c9ba94422bfd58822cd85a0c8",
            "max": 1648877,
            "min": 0,
            "orientation": "horizontal",
            "style": "IPY_MODEL_5b9eedca7c0e47f482a60b5bc57c477d",
            "value": 1648877
          }
        },
        "ba54893b2c6d45a7aca1a00231a25c8c": {
          "model_module": "@jupyter-widgets/controls",
          "model_name": "HTMLModel",
          "model_module_version": "1.5.0",
          "state": {
            "_dom_classes": [],
            "_model_module": "@jupyter-widgets/controls",
            "_model_module_version": "1.5.0",
            "_model_name": "HTMLModel",
            "_view_count": null,
            "_view_module": "@jupyter-widgets/controls",
            "_view_module_version": "1.5.0",
            "_view_name": "HTMLView",
            "description": "",
            "description_tooltip": null,
            "layout": "IPY_MODEL_be32e3edaab54df08cb96946f5bce6d5",
            "placeholder": "​",
            "style": "IPY_MODEL_8b15f79c0a8c49b6a7fac63da4ae48d5",
            "value": " 1648877/1648877 [00:00&lt;00:00, 21563776.89it/s]"
          }
        },
        "9fec088de18c4d8987b538b1ae019021": {
          "model_module": "@jupyter-widgets/base",
          "model_name": "LayoutModel",
          "model_module_version": "1.2.0",
          "state": {
            "_model_module": "@jupyter-widgets/base",
            "_model_module_version": "1.2.0",
            "_model_name": "LayoutModel",
            "_view_count": null,
            "_view_module": "@jupyter-widgets/base",
            "_view_module_version": "1.2.0",
            "_view_name": "LayoutView",
            "align_content": null,
            "align_items": null,
            "align_self": null,
            "border": null,
            "bottom": null,
            "display": null,
            "flex": null,
            "flex_flow": null,
            "grid_area": null,
            "grid_auto_columns": null,
            "grid_auto_flow": null,
            "grid_auto_rows": null,
            "grid_column": null,
            "grid_gap": null,
            "grid_row": null,
            "grid_template_areas": null,
            "grid_template_columns": null,
            "grid_template_rows": null,
            "height": null,
            "justify_content": null,
            "justify_items": null,
            "left": null,
            "margin": null,
            "max_height": null,
            "max_width": null,
            "min_height": null,
            "min_width": null,
            "object_fit": null,
            "object_position": null,
            "order": null,
            "overflow": null,
            "overflow_x": null,
            "overflow_y": null,
            "padding": null,
            "right": null,
            "top": null,
            "visibility": null,
            "width": null
          }
        },
        "9d2e564cd43b4cb69a9bb6be33ea0305": {
          "model_module": "@jupyter-widgets/base",
          "model_name": "LayoutModel",
          "model_module_version": "1.2.0",
          "state": {
            "_model_module": "@jupyter-widgets/base",
            "_model_module_version": "1.2.0",
            "_model_name": "LayoutModel",
            "_view_count": null,
            "_view_module": "@jupyter-widgets/base",
            "_view_module_version": "1.2.0",
            "_view_name": "LayoutView",
            "align_content": null,
            "align_items": null,
            "align_self": null,
            "border": null,
            "bottom": null,
            "display": null,
            "flex": null,
            "flex_flow": null,
            "grid_area": null,
            "grid_auto_columns": null,
            "grid_auto_flow": null,
            "grid_auto_rows": null,
            "grid_column": null,
            "grid_gap": null,
            "grid_row": null,
            "grid_template_areas": null,
            "grid_template_columns": null,
            "grid_template_rows": null,
            "height": null,
            "justify_content": null,
            "justify_items": null,
            "left": null,
            "margin": null,
            "max_height": null,
            "max_width": null,
            "min_height": null,
            "min_width": null,
            "object_fit": null,
            "object_position": null,
            "order": null,
            "overflow": null,
            "overflow_x": null,
            "overflow_y": null,
            "padding": null,
            "right": null,
            "top": null,
            "visibility": null,
            "width": null
          }
        },
        "9208248f6d724a86894afbae64a67a7b": {
          "model_module": "@jupyter-widgets/controls",
          "model_name": "DescriptionStyleModel",
          "model_module_version": "1.5.0",
          "state": {
            "_model_module": "@jupyter-widgets/controls",
            "_model_module_version": "1.5.0",
            "_model_name": "DescriptionStyleModel",
            "_view_count": null,
            "_view_module": "@jupyter-widgets/base",
            "_view_module_version": "1.2.0",
            "_view_name": "StyleView",
            "description_width": ""
          }
        },
        "f004c86c9ba94422bfd58822cd85a0c8": {
          "model_module": "@jupyter-widgets/base",
          "model_name": "LayoutModel",
          "model_module_version": "1.2.0",
          "state": {
            "_model_module": "@jupyter-widgets/base",
            "_model_module_version": "1.2.0",
            "_model_name": "LayoutModel",
            "_view_count": null,
            "_view_module": "@jupyter-widgets/base",
            "_view_module_version": "1.2.0",
            "_view_name": "LayoutView",
            "align_content": null,
            "align_items": null,
            "align_self": null,
            "border": null,
            "bottom": null,
            "display": null,
            "flex": null,
            "flex_flow": null,
            "grid_area": null,
            "grid_auto_columns": null,
            "grid_auto_flow": null,
            "grid_auto_rows": null,
            "grid_column": null,
            "grid_gap": null,
            "grid_row": null,
            "grid_template_areas": null,
            "grid_template_columns": null,
            "grid_template_rows": null,
            "height": null,
            "justify_content": null,
            "justify_items": null,
            "left": null,
            "margin": null,
            "max_height": null,
            "max_width": null,
            "min_height": null,
            "min_width": null,
            "object_fit": null,
            "object_position": null,
            "order": null,
            "overflow": null,
            "overflow_x": null,
            "overflow_y": null,
            "padding": null,
            "right": null,
            "top": null,
            "visibility": null,
            "width": null
          }
        },
        "5b9eedca7c0e47f482a60b5bc57c477d": {
          "model_module": "@jupyter-widgets/controls",
          "model_name": "ProgressStyleModel",
          "model_module_version": "1.5.0",
          "state": {
            "_model_module": "@jupyter-widgets/controls",
            "_model_module_version": "1.5.0",
            "_model_name": "ProgressStyleModel",
            "_view_count": null,
            "_view_module": "@jupyter-widgets/base",
            "_view_module_version": "1.2.0",
            "_view_name": "StyleView",
            "bar_color": null,
            "description_width": ""
          }
        },
        "be32e3edaab54df08cb96946f5bce6d5": {
          "model_module": "@jupyter-widgets/base",
          "model_name": "LayoutModel",
          "model_module_version": "1.2.0",
          "state": {
            "_model_module": "@jupyter-widgets/base",
            "_model_module_version": "1.2.0",
            "_model_name": "LayoutModel",
            "_view_count": null,
            "_view_module": "@jupyter-widgets/base",
            "_view_module_version": "1.2.0",
            "_view_name": "LayoutView",
            "align_content": null,
            "align_items": null,
            "align_self": null,
            "border": null,
            "bottom": null,
            "display": null,
            "flex": null,
            "flex_flow": null,
            "grid_area": null,
            "grid_auto_columns": null,
            "grid_auto_flow": null,
            "grid_auto_rows": null,
            "grid_column": null,
            "grid_gap": null,
            "grid_row": null,
            "grid_template_areas": null,
            "grid_template_columns": null,
            "grid_template_rows": null,
            "height": null,
            "justify_content": null,
            "justify_items": null,
            "left": null,
            "margin": null,
            "max_height": null,
            "max_width": null,
            "min_height": null,
            "min_width": null,
            "object_fit": null,
            "object_position": null,
            "order": null,
            "overflow": null,
            "overflow_x": null,
            "overflow_y": null,
            "padding": null,
            "right": null,
            "top": null,
            "visibility": null,
            "width": null
          }
        },
        "8b15f79c0a8c49b6a7fac63da4ae48d5": {
          "model_module": "@jupyter-widgets/controls",
          "model_name": "DescriptionStyleModel",
          "model_module_version": "1.5.0",
          "state": {
            "_model_module": "@jupyter-widgets/controls",
            "_model_module_version": "1.5.0",
            "_model_name": "DescriptionStyleModel",
            "_view_count": null,
            "_view_module": "@jupyter-widgets/base",
            "_view_module_version": "1.2.0",
            "_view_name": "StyleView",
            "description_width": ""
          }
        },
        "a644fe2b0fbe4659bf052bcc1fbb2d88": {
          "model_module": "@jupyter-widgets/controls",
          "model_name": "HBoxModel",
          "model_module_version": "1.5.0",
          "state": {
            "_dom_classes": [],
            "_model_module": "@jupyter-widgets/controls",
            "_model_module_version": "1.5.0",
            "_model_name": "HBoxModel",
            "_view_count": null,
            "_view_module": "@jupyter-widgets/controls",
            "_view_module_version": "1.5.0",
            "_view_name": "HBoxView",
            "box_style": "",
            "children": [
              "IPY_MODEL_d279560c861845dcb0c33e6b0847ce6f",
              "IPY_MODEL_4f97c076201b4602b43c63d90b546a0f",
              "IPY_MODEL_64ee4ee7828a484db353ee11a6dfdb8f"
            ],
            "layout": "IPY_MODEL_0cdba60d12314691941a3d87b5b83369"
          }
        },
        "d279560c861845dcb0c33e6b0847ce6f": {
          "model_module": "@jupyter-widgets/controls",
          "model_name": "HTMLModel",
          "model_module_version": "1.5.0",
          "state": {
            "_dom_classes": [],
            "_model_module": "@jupyter-widgets/controls",
            "_model_module_version": "1.5.0",
            "_model_name": "HTMLModel",
            "_view_count": null,
            "_view_module": "@jupyter-widgets/controls",
            "_view_module_version": "1.5.0",
            "_view_name": "HTMLView",
            "description": "",
            "description_tooltip": null,
            "layout": "IPY_MODEL_64e74e139a9f4747b2a3a4a2e28c302b",
            "placeholder": "​",
            "style": "IPY_MODEL_3a67bec15b9c4df2987404f4685b4540",
            "value": "100%"
          }
        },
        "4f97c076201b4602b43c63d90b546a0f": {
          "model_module": "@jupyter-widgets/controls",
          "model_name": "FloatProgressModel",
          "model_module_version": "1.5.0",
          "state": {
            "_dom_classes": [],
            "_model_module": "@jupyter-widgets/controls",
            "_model_module_version": "1.5.0",
            "_model_name": "FloatProgressModel",
            "_view_count": null,
            "_view_module": "@jupyter-widgets/controls",
            "_view_module_version": "1.5.0",
            "_view_name": "ProgressView",
            "bar_style": "success",
            "description": "",
            "description_tooltip": null,
            "layout": "IPY_MODEL_07c7362cb3bf49cdaa16a2e6c8f3d72c",
            "max": 4542,
            "min": 0,
            "orientation": "horizontal",
            "style": "IPY_MODEL_6bdadf32db304734987eb05595c591e0",
            "value": 4542
          }
        },
        "64ee4ee7828a484db353ee11a6dfdb8f": {
          "model_module": "@jupyter-widgets/controls",
          "model_name": "HTMLModel",
          "model_module_version": "1.5.0",
          "state": {
            "_dom_classes": [],
            "_model_module": "@jupyter-widgets/controls",
            "_model_module_version": "1.5.0",
            "_model_name": "HTMLModel",
            "_view_count": null,
            "_view_module": "@jupyter-widgets/controls",
            "_view_module_version": "1.5.0",
            "_view_name": "HTMLView",
            "description": "",
            "description_tooltip": null,
            "layout": "IPY_MODEL_a415279423c745f08c8a054ace13d2cb",
            "placeholder": "​",
            "style": "IPY_MODEL_7dd7fdf7f20c4ecc80f05405adadbbd9",
            "value": " 4542/4542 [00:00&lt;00:00, 125046.14it/s]"
          }
        },
        "0cdba60d12314691941a3d87b5b83369": {
          "model_module": "@jupyter-widgets/base",
          "model_name": "LayoutModel",
          "model_module_version": "1.2.0",
          "state": {
            "_model_module": "@jupyter-widgets/base",
            "_model_module_version": "1.2.0",
            "_model_name": "LayoutModel",
            "_view_count": null,
            "_view_module": "@jupyter-widgets/base",
            "_view_module_version": "1.2.0",
            "_view_name": "LayoutView",
            "align_content": null,
            "align_items": null,
            "align_self": null,
            "border": null,
            "bottom": null,
            "display": null,
            "flex": null,
            "flex_flow": null,
            "grid_area": null,
            "grid_auto_columns": null,
            "grid_auto_flow": null,
            "grid_auto_rows": null,
            "grid_column": null,
            "grid_gap": null,
            "grid_row": null,
            "grid_template_areas": null,
            "grid_template_columns": null,
            "grid_template_rows": null,
            "height": null,
            "justify_content": null,
            "justify_items": null,
            "left": null,
            "margin": null,
            "max_height": null,
            "max_width": null,
            "min_height": null,
            "min_width": null,
            "object_fit": null,
            "object_position": null,
            "order": null,
            "overflow": null,
            "overflow_x": null,
            "overflow_y": null,
            "padding": null,
            "right": null,
            "top": null,
            "visibility": null,
            "width": null
          }
        },
        "64e74e139a9f4747b2a3a4a2e28c302b": {
          "model_module": "@jupyter-widgets/base",
          "model_name": "LayoutModel",
          "model_module_version": "1.2.0",
          "state": {
            "_model_module": "@jupyter-widgets/base",
            "_model_module_version": "1.2.0",
            "_model_name": "LayoutModel",
            "_view_count": null,
            "_view_module": "@jupyter-widgets/base",
            "_view_module_version": "1.2.0",
            "_view_name": "LayoutView",
            "align_content": null,
            "align_items": null,
            "align_self": null,
            "border": null,
            "bottom": null,
            "display": null,
            "flex": null,
            "flex_flow": null,
            "grid_area": null,
            "grid_auto_columns": null,
            "grid_auto_flow": null,
            "grid_auto_rows": null,
            "grid_column": null,
            "grid_gap": null,
            "grid_row": null,
            "grid_template_areas": null,
            "grid_template_columns": null,
            "grid_template_rows": null,
            "height": null,
            "justify_content": null,
            "justify_items": null,
            "left": null,
            "margin": null,
            "max_height": null,
            "max_width": null,
            "min_height": null,
            "min_width": null,
            "object_fit": null,
            "object_position": null,
            "order": null,
            "overflow": null,
            "overflow_x": null,
            "overflow_y": null,
            "padding": null,
            "right": null,
            "top": null,
            "visibility": null,
            "width": null
          }
        },
        "3a67bec15b9c4df2987404f4685b4540": {
          "model_module": "@jupyter-widgets/controls",
          "model_name": "DescriptionStyleModel",
          "model_module_version": "1.5.0",
          "state": {
            "_model_module": "@jupyter-widgets/controls",
            "_model_module_version": "1.5.0",
            "_model_name": "DescriptionStyleModel",
            "_view_count": null,
            "_view_module": "@jupyter-widgets/base",
            "_view_module_version": "1.2.0",
            "_view_name": "StyleView",
            "description_width": ""
          }
        },
        "07c7362cb3bf49cdaa16a2e6c8f3d72c": {
          "model_module": "@jupyter-widgets/base",
          "model_name": "LayoutModel",
          "model_module_version": "1.2.0",
          "state": {
            "_model_module": "@jupyter-widgets/base",
            "_model_module_version": "1.2.0",
            "_model_name": "LayoutModel",
            "_view_count": null,
            "_view_module": "@jupyter-widgets/base",
            "_view_module_version": "1.2.0",
            "_view_name": "LayoutView",
            "align_content": null,
            "align_items": null,
            "align_self": null,
            "border": null,
            "bottom": null,
            "display": null,
            "flex": null,
            "flex_flow": null,
            "grid_area": null,
            "grid_auto_columns": null,
            "grid_auto_flow": null,
            "grid_auto_rows": null,
            "grid_column": null,
            "grid_gap": null,
            "grid_row": null,
            "grid_template_areas": null,
            "grid_template_columns": null,
            "grid_template_rows": null,
            "height": null,
            "justify_content": null,
            "justify_items": null,
            "left": null,
            "margin": null,
            "max_height": null,
            "max_width": null,
            "min_height": null,
            "min_width": null,
            "object_fit": null,
            "object_position": null,
            "order": null,
            "overflow": null,
            "overflow_x": null,
            "overflow_y": null,
            "padding": null,
            "right": null,
            "top": null,
            "visibility": null,
            "width": null
          }
        },
        "6bdadf32db304734987eb05595c591e0": {
          "model_module": "@jupyter-widgets/controls",
          "model_name": "ProgressStyleModel",
          "model_module_version": "1.5.0",
          "state": {
            "_model_module": "@jupyter-widgets/controls",
            "_model_module_version": "1.5.0",
            "_model_name": "ProgressStyleModel",
            "_view_count": null,
            "_view_module": "@jupyter-widgets/base",
            "_view_module_version": "1.2.0",
            "_view_name": "StyleView",
            "bar_color": null,
            "description_width": ""
          }
        },
        "a415279423c745f08c8a054ace13d2cb": {
          "model_module": "@jupyter-widgets/base",
          "model_name": "LayoutModel",
          "model_module_version": "1.2.0",
          "state": {
            "_model_module": "@jupyter-widgets/base",
            "_model_module_version": "1.2.0",
            "_model_name": "LayoutModel",
            "_view_count": null,
            "_view_module": "@jupyter-widgets/base",
            "_view_module_version": "1.2.0",
            "_view_name": "LayoutView",
            "align_content": null,
            "align_items": null,
            "align_self": null,
            "border": null,
            "bottom": null,
            "display": null,
            "flex": null,
            "flex_flow": null,
            "grid_area": null,
            "grid_auto_columns": null,
            "grid_auto_flow": null,
            "grid_auto_rows": null,
            "grid_column": null,
            "grid_gap": null,
            "grid_row": null,
            "grid_template_areas": null,
            "grid_template_columns": null,
            "grid_template_rows": null,
            "height": null,
            "justify_content": null,
            "justify_items": null,
            "left": null,
            "margin": null,
            "max_height": null,
            "max_width": null,
            "min_height": null,
            "min_width": null,
            "object_fit": null,
            "object_position": null,
            "order": null,
            "overflow": null,
            "overflow_x": null,
            "overflow_y": null,
            "padding": null,
            "right": null,
            "top": null,
            "visibility": null,
            "width": null
          }
        },
        "7dd7fdf7f20c4ecc80f05405adadbbd9": {
          "model_module": "@jupyter-widgets/controls",
          "model_name": "DescriptionStyleModel",
          "model_module_version": "1.5.0",
          "state": {
            "_model_module": "@jupyter-widgets/controls",
            "_model_module_version": "1.5.0",
            "_model_name": "DescriptionStyleModel",
            "_view_count": null,
            "_view_module": "@jupyter-widgets/base",
            "_view_module_version": "1.2.0",
            "_view_name": "StyleView",
            "description_width": ""
          }
        }
      }
    }
  },
  "cells": [
    {
      "cell_type": "markdown",
      "source": [
        "# Project Setup\n",
        "We first check what we are working with and will set the colab environment up to meet our requirements.   \n",
        "For a more thorough introduction read the readme.md of the github repository we clone in the cell below.\n"
      ],
      "metadata": {
        "id": "JkUIflXtK-0n"
      }
    },
    {
      "cell_type": "markdown",
      "source": [
        "## Step 1: Clone the repository"
      ],
      "metadata": {
        "id": "iaKr04nkLcoH"
      }
    },
    {
      "cell_type": "code",
      "source": [
        "!git clone https://github.com/benearnthof/open_science_mnist.git"
      ],
      "metadata": {
        "colab": {
          "base_uri": "https://localhost:8080/"
        },
        "id": "-IwDqNF7LvvZ",
        "outputId": "0c16f1ac-8ee9-4059-dad7-025d27e0a75a"
      },
      "execution_count": 1,
      "outputs": [
        {
          "output_type": "stream",
          "name": "stdout",
          "text": [
            "Cloning into 'open_science_mnist'...\n",
            "remote: Enumerating objects: 126, done.\u001b[K\n",
            "remote: Counting objects: 100% (15/15), done.\u001b[K\n",
            "remote: Compressing objects: 100% (15/15), done.\u001b[K\n",
            "remote: Total 126 (delta 4), reused 0 (delta 0), pack-reused 111\u001b[K\n",
            "Receiving objects: 100% (126/126), 312.64 KiB | 1.64 MiB/s, done.\n",
            "Resolving deltas: 100% (55/55), done.\n"
          ]
        }
      ]
    },
    {
      "cell_type": "code",
      "execution_count": 2,
      "metadata": {
        "colab": {
          "base_uri": "https://localhost:8080/"
        },
        "id": "BURh6NggJ3Qc",
        "outputId": "eb6634e1-1bd6-4648-f8e0-824de7220d4b"
      },
      "outputs": [
        {
          "output_type": "stream",
          "name": "stdout",
          "text": [
            "open_science_mnist  sample_data\n"
          ]
        }
      ],
      "source": [
        "# 'open_science_mnist' & 'sample_data'\n",
        "!ls"
      ]
    },
    {
      "cell_type": "code",
      "source": [
        "# sample_data contains mnist in .csv form, we will download the official version of the dataset later. \n",
        "# for now we switch to the root directory of our project\n",
        "%cd /content/open_science_mnist\n",
        "!pwd"
      ],
      "metadata": {
        "colab": {
          "base_uri": "https://localhost:8080/"
        },
        "id": "FbpyV97FJ-bT",
        "outputId": "fa969b44-da1c-415b-c4eb-f4a3089a07c9"
      },
      "execution_count": 3,
      "outputs": [
        {
          "output_type": "stream",
          "name": "stdout",
          "text": [
            "/content/open_science_mnist\n",
            "/content/open_science_mnist\n"
          ]
        }
      ]
    },
    {
      "cell_type": "code",
      "source": [
        "# if cloning was a success & the working directory got adjusted this should \n",
        "# yield the contents of the outermost layer of the github repo\n",
        "!ls"
      ],
      "metadata": {
        "colab": {
          "base_uri": "https://localhost:8080/"
        },
        "id": "wOikyIoRuWXC",
        "outputId": "7c8d4909-90ea-4c79-a469-eb6a70a51736"
      },
      "execution_count": 4,
      "outputs": [
        {
          "output_type": "stream",
          "name": "stdout",
          "text": [
            "data\t__init__.py  open_science_mnist.ipynb  Pipfile.lock  scripts\n",
            "images\tLICENSE      Pipfile\t\t       README.md     src\n"
          ]
        }
      ]
    },
    {
      "cell_type": "code",
      "source": [
        "# We are working with pip version 22.0.4 and python 3.8\n",
        "!pip --version"
      ],
      "metadata": {
        "colab": {
          "base_uri": "https://localhost:8080/"
        },
        "id": "ydvcgbNaM3un",
        "outputId": "d53bcd36-173d-4c69-e5a0-9f08d26b436a"
      },
      "execution_count": 5,
      "outputs": [
        {
          "output_type": "stream",
          "name": "stdout",
          "text": [
            "pip 22.0.4 from /usr/local/lib/python3.8/dist-packages/pip (python 3.8)\n"
          ]
        }
      ]
    },
    {
      "cell_type": "code",
      "source": [
        "# installing pipenv\n",
        "!pip install --user pipenv"
      ],
      "metadata": {
        "colab": {
          "base_uri": "https://localhost:8080/"
        },
        "id": "A-PV25brKZUN",
        "outputId": "9d1d9c35-366d-454a-f725-dcb68a12e986"
      },
      "execution_count": 6,
      "outputs": [
        {
          "output_type": "stream",
          "name": "stdout",
          "text": [
            "Looking in indexes: https://pypi.org/simple, https://us-python.pkg.dev/colab-wheels/public/simple/\n",
            "Collecting pipenv\n",
            "  Downloading pipenv-2022.12.19-py3-none-any.whl (2.9 MB)\n",
            "\u001b[2K     \u001b[90m━━━━━━━━━━━━━━━━━━━━━━━━━━━━━━━━━━━━━━━━\u001b[0m \u001b[32m2.9/2.9 MB\u001b[0m \u001b[31m15.4 MB/s\u001b[0m eta \u001b[36m0:00:00\u001b[0m\n",
            "\u001b[?25hCollecting virtualenv\n",
            "  Downloading virtualenv-20.17.1-py3-none-any.whl (8.8 MB)\n",
            "\u001b[2K     \u001b[90m━━━━━━━━━━━━━━━━━━━━━━━━━━━━━━━━━━━━━━━━\u001b[0m \u001b[32m8.8/8.8 MB\u001b[0m \u001b[31m84.4 MB/s\u001b[0m eta \u001b[36m0:00:00\u001b[0m\n",
            "\u001b[?25hRequirement already satisfied: setuptools>=36.2.1 in /usr/local/lib/python3.8/dist-packages (from pipenv) (57.4.0)\n",
            "Collecting virtualenv-clone>=0.2.5\n",
            "  Downloading virtualenv_clone-0.5.7-py3-none-any.whl (6.6 kB)\n",
            "Requirement already satisfied: certifi in /usr/local/lib/python3.8/dist-packages (from pipenv) (2022.12.7)\n",
            "Requirement already satisfied: filelock<4,>=3.4.1 in /usr/local/lib/python3.8/dist-packages (from virtualenv->pipenv) (3.9.0)\n",
            "Collecting distlib<1,>=0.3.6\n",
            "  Downloading distlib-0.3.6-py2.py3-none-any.whl (468 kB)\n",
            "\u001b[2K     \u001b[90m━━━━━━━━━━━━━━━━━━━━━━━━━━━━━━━━━━━━━━\u001b[0m \u001b[32m468.5/468.5 KB\u001b[0m \u001b[31m39.9 MB/s\u001b[0m eta \u001b[36m0:00:00\u001b[0m\n",
            "\u001b[?25hRequirement already satisfied: platformdirs<3,>=2.4 in /usr/local/lib/python3.8/dist-packages (from virtualenv->pipenv) (2.6.2)\n",
            "Installing collected packages: distlib, virtualenv-clone, virtualenv, pipenv\n",
            "\u001b[33m  WARNING: The script virtualenv-clone is installed in '/root/.local/bin' which is not on PATH.\n",
            "  Consider adding this directory to PATH or, if you prefer to suppress this warning, use --no-warn-script-location.\u001b[0m\u001b[33m\n",
            "\u001b[0m\u001b[33m  WARNING: The script virtualenv is installed in '/root/.local/bin' which is not on PATH.\n",
            "  Consider adding this directory to PATH or, if you prefer to suppress this warning, use --no-warn-script-location.\u001b[0m\u001b[33m\n",
            "\u001b[0m\u001b[33m  WARNING: The scripts pipenv and pipenv-resolver are installed in '/root/.local/bin' which is not on PATH.\n",
            "  Consider adding this directory to PATH or, if you prefer to suppress this warning, use --no-warn-script-location.\u001b[0m\u001b[33m\n",
            "\u001b[0mSuccessfully installed distlib-0.3.6 pipenv-2022.12.19 virtualenv-20.17.1 virtualenv-clone-0.5.7\n"
          ]
        }
      ]
    },
    {
      "cell_type": "code",
      "source": [
        "# add the location of the pipenv scripts to $PATH\n",
        "import os\n",
        "os.environ['PATH'] += ':/root/.local/bin'"
      ],
      "metadata": {
        "id": "nIfzulNsOygm"
      },
      "execution_count": 7,
      "outputs": []
    },
    {
      "cell_type": "code",
      "source": [
        "# this should now have /root/.local/bin added at the end\n",
        "! echo $PATH"
      ],
      "metadata": {
        "colab": {
          "base_uri": "https://localhost:8080/"
        },
        "id": "aNbVpoorPQIj",
        "outputId": "1a3715d3-6b70-4d11-fb49-5b9d0aec30a6"
      },
      "execution_count": 8,
      "outputs": [
        {
          "output_type": "stream",
          "name": "stdout",
          "text": [
            "/opt/bin:/usr/local/nvidia/bin:/usr/local/cuda/bin:/usr/local/sbin:/usr/local/bin:/usr/sbin:/usr/bin:/sbin:/bin:/tools/node/bin:/tools/google-cloud-sdk/bin:/root/.local/bin\n"
          ]
        }
      ]
    },
    {
      "cell_type": "code",
      "source": [
        "# setting up a virtualenv for this project\n",
        "!pipenv install"
      ],
      "metadata": {
        "colab": {
          "base_uri": "https://localhost:8080/"
        },
        "id": "damnqOkoP0Fq",
        "outputId": "d307542d-e1e9-4955-fec4-a1a3d3aab936"
      },
      "execution_count": 9,
      "outputs": [
        {
          "output_type": "stream",
          "name": "stdout",
          "text": [
            "\u001b[1mCreating a virtualenv for this project...\u001b[0m\n",
            "Pipfile: \u001b[33m\u001b[1m/content/open_science_mnist/Pipfile\u001b[0m\n",
            "\u001b[1mUsing\u001b[0m \u001b[33m\u001b[1m/usr/local/bin/python\u001b[0m \u001b[32m(3.8.10)\u001b[0m \u001b[1mto create virtualenv...\u001b[0m\n",
            "\u001b[2K\u001b[32m⠴\u001b[0m Creating virtual environment...\u001b[36mcreated virtual environment CPython3.8.10.final.0-64 in 1180ms\n",
            "  creator CPython3Posix(dest=/root/.local/share/virtualenvs/open_science_mnist-fq3yB1ln, clear=False, no_vcs_ignore=False, global=False)\n",
            "  seeder FromAppData(download=False, pip=bundle, setuptools=bundle, wheel=bundle, via=copy, app_data_dir=/root/.local/share/virtualenv)\n",
            "    added seed packages: pip==22.3.1, setuptools==65.6.3, wheel==0.38.4\n",
            "  activators BashActivator,CShellActivator,FishActivator,NushellActivator,PowerShellActivator,PythonActivator\n",
            "\u001b[0m\n",
            "✔ Successfully created virtual environment!\n",
            "\u001b[2K\u001b[32m⠴\u001b[0m Creating virtual environment...\n",
            "\u001b[1A\u001b[2K\u001b[32mVirtualenv location: /root/.local/share/virtualenvs/open_science_mnist-fq3yB1ln\u001b[0m\n",
            "\u001b[1mInstalling dependencies from Pipfile.lock (0875e4)...\u001b[0m\n",
            "To activate this project's virtualenv, run \u001b[33mpipenv shell\u001b[0m.\n",
            "Alternatively, run a command inside the virtualenv with \u001b[33mpipenv run\u001b[0m.\n"
          ]
        }
      ]
    },
    {
      "cell_type": "code",
      "source": [
        "!pipenv graph"
      ],
      "metadata": {
        "colab": {
          "base_uri": "https://localhost:8080/"
        },
        "id": "7vLpUmOSTglB",
        "outputId": "a0afe131-450e-4cd6-9292-d4c0affc8f56"
      },
      "execution_count": 10,
      "outputs": [
        {
          "output_type": "stream",
          "name": "stdout",
          "text": [
            "\u001b[1malbumentations==1.3.0\u001b[0m\n",
            "\u001b[22m  - numpy [required: >=1.11.1, installed: 1.24.1]\u001b[0m\n",
            "\u001b[22m  - opencv-python-headless [required: >=4.1.1, installed: 4.7.0.68]\u001b[0m\n",
            "\u001b[22m    - numpy [required: >=1.17.3, installed: 1.24.1]\u001b[0m\n",
            "\u001b[22m    - numpy [required: >=1.17.0, installed: 1.24.1]\u001b[0m\n",
            "\u001b[22m  - PyYAML [required: Any, installed: 6.0]\u001b[0m\n",
            "\u001b[22m  - qudida [required: >=0.0.4, installed: 0.0.4]\u001b[0m\n",
            "\u001b[22m    - numpy [required: >=0.18.0, installed: 1.24.1]\u001b[0m\n",
            "\u001b[22m    - opencv-python-headless [required: >=4.0.1, installed: 4.7.0.68]\u001b[0m\n",
            "\u001b[22m      - numpy [required: >=1.17.3, installed: 1.24.1]\u001b[0m\n",
            "\u001b[22m      - numpy [required: >=1.17.0, installed: 1.24.1]\u001b[0m\n",
            "\u001b[22m    - scikit-learn [required: >=0.19.1, installed: 1.2.0]\u001b[0m\n",
            "\u001b[22m      - joblib [required: >=1.1.1, installed: 1.2.0]\u001b[0m\n",
            "\u001b[22m      - numpy [required: >=1.17.3, installed: 1.24.1]\u001b[0m\n",
            "\u001b[22m      - scipy [required: >=1.3.2, installed: 1.10.0]\u001b[0m\n",
            "\u001b[22m        - numpy [required: >=1.19.5,<1.27.0, installed: 1.24.1]\u001b[0m\n",
            "\u001b[22m      - threadpoolctl [required: >=2.0.0, installed: 3.1.0]\u001b[0m\n",
            "\u001b[22m    - typing-extensions [required: Any, installed: 4.4.0]\u001b[0m\n",
            "\u001b[22m  - scikit-image [required: >=0.16.1, installed: 0.19.3]\u001b[0m\n",
            "\u001b[22m    - imageio [required: >=2.4.1, installed: 2.24.0]\u001b[0m\n",
            "\u001b[22m      - numpy [required: Any, installed: 1.24.1]\u001b[0m\n",
            "\u001b[22m      - pillow [required: >=8.3.2, installed: 9.4.0]\u001b[0m\n",
            "\u001b[22m    - networkx [required: >=2.2, installed: 3.0]\u001b[0m\n",
            "\u001b[22m    - numpy [required: >=1.17.0, installed: 1.24.1]\u001b[0m\n",
            "\u001b[22m    - packaging [required: >=20.0, installed: 23.0]\u001b[0m\n",
            "\u001b[22m    - pillow [required: >=6.1.0,!=8.3.0,!=7.1.1,!=7.1.0, installed: 9.4.0]\u001b[0m\n",
            "\u001b[22m    - PyWavelets [required: >=1.1.1, installed: 1.4.1]\u001b[0m\n",
            "\u001b[22m      - numpy [required: >=1.17.3, installed: 1.24.1]\u001b[0m\n",
            "\u001b[22m    - scipy [required: >=1.4.1, installed: 1.10.0]\u001b[0m\n",
            "\u001b[22m      - numpy [required: >=1.19.5,<1.27.0, installed: 1.24.1]\u001b[0m\n",
            "\u001b[22m    - tifffile [required: >=2019.7.26, installed: 2022.10.10]\u001b[0m\n",
            "\u001b[22m      - numpy [required: >=1.19.2, installed: 1.24.1]\u001b[0m\n",
            "\u001b[22m  - scipy [required: Any, installed: 1.10.0]\u001b[0m\n",
            "\u001b[22m    - numpy [required: >=1.19.5,<1.27.0, installed: 1.24.1]\u001b[0m\n",
            "\u001b[1margparse==1.4.0\u001b[0m\n",
            "\u001b[1mtorchvision==0.14.1\u001b[0m\n",
            "\u001b[22m  - numpy [required: Any, installed: 1.24.1]\u001b[0m\n",
            "\u001b[22m  - pillow [required: >=5.3.0,!=8.3.*, installed: 9.4.0]\u001b[0m\n",
            "\u001b[22m  - requests [required: Any, installed: 2.28.2]\u001b[0m\n",
            "\u001b[22m    - certifi [required: >=2017.4.17, installed: 2022.12.7]\u001b[0m\n",
            "\u001b[22m    - charset-normalizer [required: >=2,<4, installed: 3.0.1]\u001b[0m\n",
            "\u001b[22m    - idna [required: >=2.5,<4, installed: 3.4]\u001b[0m\n",
            "\u001b[22m    - urllib3 [required: >=1.21.1,<1.27, installed: 1.26.14]\u001b[0m\n",
            "\u001b[22m  - torch [required: ==1.13.1, installed: 1.13.1]\u001b[0m\n",
            "\u001b[22m    - nvidia-cublas-cu11 [required: ==11.10.3.66, installed: 11.10.3.66]\u001b[0m\n",
            "\u001b[22m      - setuptools [required: Any, installed: 65.7.0]\u001b[0m\n",
            "\u001b[22m      - wheel [required: Any, installed: 0.38.4]\u001b[0m\n",
            "\u001b[22m    - nvidia-cuda-nvrtc-cu11 [required: ==11.7.99, installed: 11.7.99]\u001b[0m\n",
            "\u001b[22m    - nvidia-cuda-runtime-cu11 [required: ==11.7.99, installed: 11.7.99]\u001b[0m\n",
            "\u001b[22m      - setuptools [required: Any, installed: 65.7.0]\u001b[0m\n",
            "\u001b[22m      - wheel [required: Any, installed: 0.38.4]\u001b[0m\n",
            "\u001b[22m    - nvidia-cudnn-cu11 [required: ==8.5.0.96, installed: 8.5.0.96]\u001b[0m\n",
            "\u001b[22m      - nvidia-cublas-cu11 [required: Any, installed: 11.10.3.66]\u001b[0m\n",
            "\u001b[22m        - setuptools [required: Any, installed: 65.7.0]\u001b[0m\n",
            "\u001b[22m        - wheel [required: Any, installed: 0.38.4]\u001b[0m\n",
            "\u001b[22m    - typing-extensions [required: Any, installed: 4.4.0]\u001b[0m\n",
            "\u001b[22m  - typing-extensions [required: Any, installed: 4.4.0]\u001b[0m\n"
          ]
        }
      ]
    },
    {
      "cell_type": "markdown",
      "source": [
        "If the environment setup worked, the command above should have produced a dependency graph of the required packages. We will now proceed with running our experiments."
      ],
      "metadata": {
        "id": "LtmMaPhWUGlw"
      }
    },
    {
      "cell_type": "markdown",
      "source": [
        "# Step 2: Importing the Dataset"
      ],
      "metadata": {
        "id": "4WKVthi4UZyI"
      }
    },
    {
      "cell_type": "code",
      "source": [
        "# setting up the random seeds of torch, numpy and pythons random module\n",
        "import random\n",
        "import torch\n",
        "import numpy\n",
        "random.seed(2023)\n",
        "torch.manual_seed(2023)\n",
        "numpy.random.seed(2023)"
      ],
      "metadata": {
        "id": "9wOK9u8nX7rf"
      },
      "execution_count": 11,
      "outputs": []
    },
    {
      "cell_type": "markdown",
      "source": [
        "We will make use of the MNIST version the torchvision package provides."
      ],
      "metadata": {
        "id": "iLvyhToQ09zr"
      }
    },
    {
      "cell_type": "code",
      "source": [
        "# first we need to import our data loaders for train & test data\n",
        "from src.dataloader import TrainLoader, TestLoader, TrainLoaderNormalized\n",
        "# let us first visualize some of the pictures in the dataset\n",
        "train_loader = TrainLoader()\n",
        "batch_idx, (data, target) = next(enumerate(train_loader))\n",
        "data.shape # 32 images with 1 channel and 28 by 28 pixels"
      ],
      "metadata": {
        "colab": {
          "base_uri": "https://localhost:8080/",
          "height": 449,
          "referenced_widgets": [
            "e7436ef5ae414fac8666f0ca05f6452a",
            "adf52e6e18f349c596190b63e80105f0",
            "55f0b7fcdf014575913a2a551d74cd36",
            "311f0239eb1445eeb3d015e3e77a5e3f",
            "fa00ff7cd78a4557984fa2af06de8e91",
            "12ff457da9294b27b9e95405da959d73",
            "0288772aa1d1493aab92cad42344d031",
            "afaa8e0031f748619fbf793e32e56db1",
            "2c668ec694384c1fa62e4d0cf79ad0e0",
            "68042ad517024fff82f7bfee952535e4",
            "dcc674cbbe71459eaae3d7e64cd2de48",
            "d776dcdb665c4a58a53d06be5c28273b",
            "72e30382fcbf46c78573ae92eb537dcb",
            "16353e64281c440fb7f19c1b3f1f21b8",
            "d79dd3a4f80048aea3fbb07c0a3876d8",
            "50ae4aecb93846b3aa7b65d62b7eca67",
            "c5fd7019d3f942ee94c1a2440bb36325",
            "631de3bbb89b4a4f91e6d675d1ea939e",
            "4db9aec8adb246578654e593f2a1359c",
            "753e88ca7216430fb6fbf78451e4691f",
            "3ac55f6d89bf4d8483158fc90f0481fe",
            "8eb79dde985c476286b269ae30446677",
            "438605b442f24f978f231ba2184cd50e",
            "14fef5c248aa4f9db6ddd99a38df9c62",
            "4d64ec1866c0448da1b67ec1b5a411ea",
            "ba54893b2c6d45a7aca1a00231a25c8c",
            "9fec088de18c4d8987b538b1ae019021",
            "9d2e564cd43b4cb69a9bb6be33ea0305",
            "9208248f6d724a86894afbae64a67a7b",
            "f004c86c9ba94422bfd58822cd85a0c8",
            "5b9eedca7c0e47f482a60b5bc57c477d",
            "be32e3edaab54df08cb96946f5bce6d5",
            "8b15f79c0a8c49b6a7fac63da4ae48d5",
            "a644fe2b0fbe4659bf052bcc1fbb2d88",
            "d279560c861845dcb0c33e6b0847ce6f",
            "4f97c076201b4602b43c63d90b546a0f",
            "64ee4ee7828a484db353ee11a6dfdb8f",
            "0cdba60d12314691941a3d87b5b83369",
            "64e74e139a9f4747b2a3a4a2e28c302b",
            "3a67bec15b9c4df2987404f4685b4540",
            "07c7362cb3bf49cdaa16a2e6c8f3d72c",
            "6bdadf32db304734987eb05595c591e0",
            "a415279423c745f08c8a054ace13d2cb",
            "7dd7fdf7f20c4ecc80f05405adadbbd9"
          ]
        },
        "id": "9_xJJhLk24fT",
        "outputId": "d85d64c1-4fe8-4a05-a6a6-a094c7315401"
      },
      "execution_count": 12,
      "outputs": [
        {
          "output_type": "stream",
          "name": "stdout",
          "text": [
            "Downloading http://yann.lecun.com/exdb/mnist/train-images-idx3-ubyte.gz\n",
            "Downloading http://yann.lecun.com/exdb/mnist/train-images-idx3-ubyte.gz to ../data/AlbumentationsMnist/raw/train-images-idx3-ubyte.gz\n"
          ]
        },
        {
          "output_type": "display_data",
          "data": {
            "text/plain": [
              "  0%|          | 0/9912422 [00:00<?, ?it/s]"
            ],
            "application/vnd.jupyter.widget-view+json": {
              "version_major": 2,
              "version_minor": 0,
              "model_id": "e7436ef5ae414fac8666f0ca05f6452a"
            }
          },
          "metadata": {}
        },
        {
          "output_type": "stream",
          "name": "stdout",
          "text": [
            "Extracting ../data/AlbumentationsMnist/raw/train-images-idx3-ubyte.gz to ../data/AlbumentationsMnist/raw\n",
            "\n",
            "Downloading http://yann.lecun.com/exdb/mnist/train-labels-idx1-ubyte.gz\n",
            "Downloading http://yann.lecun.com/exdb/mnist/train-labels-idx1-ubyte.gz to ../data/AlbumentationsMnist/raw/train-labels-idx1-ubyte.gz\n"
          ]
        },
        {
          "output_type": "display_data",
          "data": {
            "text/plain": [
              "  0%|          | 0/28881 [00:00<?, ?it/s]"
            ],
            "application/vnd.jupyter.widget-view+json": {
              "version_major": 2,
              "version_minor": 0,
              "model_id": "d776dcdb665c4a58a53d06be5c28273b"
            }
          },
          "metadata": {}
        },
        {
          "output_type": "stream",
          "name": "stdout",
          "text": [
            "Extracting ../data/AlbumentationsMnist/raw/train-labels-idx1-ubyte.gz to ../data/AlbumentationsMnist/raw\n",
            "\n",
            "Downloading http://yann.lecun.com/exdb/mnist/t10k-images-idx3-ubyte.gz\n",
            "Downloading http://yann.lecun.com/exdb/mnist/t10k-images-idx3-ubyte.gz to ../data/AlbumentationsMnist/raw/t10k-images-idx3-ubyte.gz\n"
          ]
        },
        {
          "output_type": "display_data",
          "data": {
            "text/plain": [
              "  0%|          | 0/1648877 [00:00<?, ?it/s]"
            ],
            "application/vnd.jupyter.widget-view+json": {
              "version_major": 2,
              "version_minor": 0,
              "model_id": "438605b442f24f978f231ba2184cd50e"
            }
          },
          "metadata": {}
        },
        {
          "output_type": "stream",
          "name": "stdout",
          "text": [
            "Extracting ../data/AlbumentationsMnist/raw/t10k-images-idx3-ubyte.gz to ../data/AlbumentationsMnist/raw\n",
            "\n",
            "Downloading http://yann.lecun.com/exdb/mnist/t10k-labels-idx1-ubyte.gz\n",
            "Downloading http://yann.lecun.com/exdb/mnist/t10k-labels-idx1-ubyte.gz to ../data/AlbumentationsMnist/raw/t10k-labels-idx1-ubyte.gz\n"
          ]
        },
        {
          "output_type": "display_data",
          "data": {
            "text/plain": [
              "  0%|          | 0/4542 [00:00<?, ?it/s]"
            ],
            "application/vnd.jupyter.widget-view+json": {
              "version_major": 2,
              "version_minor": 0,
              "model_id": "a644fe2b0fbe4659bf052bcc1fbb2d88"
            }
          },
          "metadata": {}
        },
        {
          "output_type": "stream",
          "name": "stdout",
          "text": [
            "Extracting ../data/AlbumentationsMnist/raw/t10k-labels-idx1-ubyte.gz to ../data/AlbumentationsMnist/raw\n",
            "\n"
          ]
        },
        {
          "output_type": "execute_result",
          "data": {
            "text/plain": [
              "torch.Size([32, 1, 28, 28])"
            ]
          },
          "metadata": {},
          "execution_count": 12
        }
      ]
    },
    {
      "cell_type": "code",
      "source": [
        "from src.utils import quick_plot, plot_25, plot_1\n",
        "# quick verification if our data loader works correctly\n",
        "quick_plot(data, target)"
      ],
      "metadata": {
        "colab": {
          "base_uri": "https://localhost:8080/",
          "height": 108
        },
        "id": "qL9YjkRLBui0",
        "outputId": "1184b192-2741-44be-f009-b8ff61c9c2ef"
      },
      "execution_count": 13,
      "outputs": [
        {
          "output_type": "display_data",
          "data": {
            "text/plain": [
              "<Figure size 432x288 with 5 Axes>"
            ],
            "image/png": "[encoded data removed]"
          },
          "metadata": {}
        }
      ]
    },
    {
      "cell_type": "code",
      "source": [
        "# let's view more digits at once\n",
        "dataiter = iter(train_loader)\n",
        "images, labels = next(dataiter)\n",
        "images = images.numpy()\n",
        "plot_25(images, labels)"
      ],
      "metadata": {
        "colab": {
          "base_uri": "https://localhost:8080/",
          "height": 1000
        },
        "id": "MTd92MD3UcAY",
        "outputId": "bea32b02-7fb8-40b9-8f9b-425bba3d4d86"
      },
      "execution_count": 14,
      "outputs": [
        {
          "output_type": "display_data",
          "data": {
            "text/plain": [
              "<Figure size 1800x1800 with 25 Axes>"
            ],
            "image/png": "[encoded data removed]"
          },
          "metadata": {}
        }
      ]
    },
    {
      "cell_type": "code",
      "source": [
        "# let's take a closer look at a single digit and its pixel values\n",
        "from numpy import squeeze\n",
        "img = squeeze(images[1])\n",
        "plot_1(img)"
      ],
      "metadata": {
        "colab": {
          "base_uri": "https://localhost:8080/",
          "height": 1000
        },
        "id": "3jzUYzSGQ1O-",
        "outputId": "db75091c-bb60-4516-ebc1-0020c4d4f712"
      },
      "execution_count": 15,
      "outputs": [
        {
          "output_type": "display_data",
          "data": {
            "text/plain": [
              "<Figure size 1800x1800 with 1 Axes>"
            ],
            "image/png": "[encoded data removed]"
          },
          "metadata": {
            "needs_background": "light"
          }
        }
      ]
    },
    {
      "cell_type": "markdown",
      "source": [
        "# Step 3: Setting up the Model"
      ],
      "metadata": {
        "id": "fxKWGqp9IP8F"
      }
    },
    {
      "cell_type": "code",
      "source": [
        "from src.models import ConvNet, FCNet\n",
        "model_augmented = ConvNet()\n",
        "print(model_augmented)"
      ],
      "metadata": {
        "colab": {
          "base_uri": "https://localhost:8080/"
        },
        "id": "vzX3KRLV9y6r",
        "outputId": "e892f70b-c7a7-4c90-c210-15e641710df0"
      },
      "execution_count": 16,
      "outputs": [
        {
          "output_type": "stream",
          "name": "stdout",
          "text": [
            "ConvNet(\n",
            "  (conv1): Conv2d(1, 32, kernel_size=(3, 3), stride=(1, 1))\n",
            "  (conv2): Conv2d(32, 64, kernel_size=(3, 3), stride=(1, 1))\n",
            "  (dropout1): Dropout2d(p=0.25, inplace=False)\n",
            "  (dropout2): Dropout2d(p=0.5, inplace=False)\n",
            "  (fc1): Linear(in_features=9216, out_features=128, bias=True)\n",
            "  (fc2): Linear(in_features=128, out_features=10, bias=True)\n",
            ")\n"
          ]
        }
      ]
    },
    {
      "cell_type": "markdown",
      "source": [
        "# Step 4: Train the Model"
      ],
      "metadata": {
        "id": "pg_ND43qOMiW"
      }
    },
    {
      "cell_type": "code",
      "source": [
        "from scripts.train import train_model\n",
        "from src.utils import Parameters\n",
        "\n",
        "# modify Parameters in src/utils.py to adjust epochs & lr if needed\n",
        "params = Parameters()\n",
        "\n",
        "train_model(model_augmented, params, train_loader)"
      ],
      "metadata": {
        "colab": {
          "base_uri": "https://localhost:8080/"
        },
        "id": "f1DTprtMOQT9",
        "outputId": "c3bee5df-2480-4788-95b1-e2577bf61856"
      },
      "execution_count": 17,
      "outputs": [
        {
          "output_type": "stream",
          "name": "stderr",
          "text": [
            "/usr/local/lib/python3.8/dist-packages/torch/nn/functional.py:1331: UserWarning: dropout2d: Received a 2-D input to dropout2d, which is deprecated and will result in an error in a future release. To retain the behavior and silence this warning, please use dropout instead. Note that dropout2d exists to provide channel-wise dropout on inputs with 2 spatial dimensions, a channel dimension, and an optional batch dimension (i.e. 3D or 4D inputs).\n",
            "  warnings.warn(warn_msg)\n"
          ]
        },
        {
          "output_type": "stream",
          "name": "stdout",
          "text": [
            "Epoch: 1 \tTraining Loss: 1.0679\n",
            "Epoch: 2 \tTraining Loss: 0.7089\n",
            "Epoch: 3 \tTraining Loss: 0.5633\n",
            "Epoch: 4 \tTraining Loss: 0.4837\n",
            "Epoch: 5 \tTraining Loss: 0.4315\n",
            "Epoch: 6 \tTraining Loss: 0.3986\n",
            "Epoch: 7 \tTraining Loss: 0.3711\n",
            "Epoch: 8 \tTraining Loss: 0.3509\n",
            "Epoch: 9 \tTraining Loss: 0.3374\n",
            "Epoch: 10 \tTraining Loss: 0.3266\n"
          ]
        }
      ]
    },
    {
      "cell_type": "code",
      "source": [
        "from scripts.eval import test_model\n",
        "from src.dataloader import TestLoader\n",
        "\n",
        "test_loader = TestLoader()\n",
        "test_model(model_augmented, test_loader)"
      ],
      "metadata": {
        "colab": {
          "base_uri": "https://localhost:8080/"
        },
        "id": "j6ylYeR9oCAC",
        "outputId": "b41fbad3-e757-4eac-a1ef-89b12f5832c1"
      },
      "execution_count": 18,
      "outputs": [
        {
          "output_type": "stream",
          "name": "stdout",
          "text": [
            "Test Loss: 0.107611\n",
            "\n",
            "Test Accuracy of     0: 99% (971/980)\n",
            "Test Accuracy of     1: 99% (1126/1135)\n",
            "Test Accuracy of     2: 95% (983/1032)\n",
            "Test Accuracy of     3: 96% (972/1010)\n",
            "Test Accuracy of     4: 97% (961/982)\n",
            "Test Accuracy of     5: 94% (839/892)\n",
            "Test Accuracy of     6: 96% (923/958)\n",
            "Test Accuracy of     7: 94% (969/1028)\n",
            "Test Accuracy of     8: 98% (963/974)\n",
            "Test Accuracy of     9: 94% (951/1009)\n",
            "\n",
            "Test Accuracy (Overall): 96% (9658/10000)\n"
          ]
        }
      ]
    },
    {
      "cell_type": "code",
      "source": [
        "# restarting out python session to reset model parameters\n",
        "exit()\n",
        "# wait for the runtime to reconnect"
      ],
      "metadata": {
        "id": "3euwDPGR1IAO"
      },
      "execution_count": 19,
      "outputs": []
    },
    {
      "cell_type": "code",
      "source": [
        "%cd /content/open_science_mnist\n",
        "!pwd"
      ],
      "metadata": {
        "id": "r7C8ffYN1L69"
      },
      "execution_count": null,
      "outputs": []
    },
    {
      "cell_type": "code",
      "source": [
        "# let's compare the performance with a model trained without data augmentation\n",
        "# setting seeds again in case you want to train in multiple sessions\n",
        "import random\n",
        "import torch\n",
        "import numpy\n",
        "random.seed(2023)\n",
        "torch.manual_seed(2023)\n",
        "numpy.random.seed(2023)\n",
        "\n",
        "\n",
        "from src.models import ConvNet, FCNet\n",
        "model_basic = ConvNet()\n",
        "print(model_basic)"
      ],
      "metadata": {
        "colab": {
          "base_uri": "https://localhost:8080/"
        },
        "id": "qokP-RIEmcRx",
        "outputId": "65ae6528-a945-404e-fac3-003d26466a71"
      },
      "execution_count": 2,
      "outputs": [
        {
          "output_type": "stream",
          "name": "stdout",
          "text": [
            "ConvNet(\n",
            "  (conv1): Conv2d(1, 32, kernel_size=(3, 3), stride=(1, 1))\n",
            "  (conv2): Conv2d(32, 64, kernel_size=(3, 3), stride=(1, 1))\n",
            "  (dropout1): Dropout2d(p=0.25, inplace=False)\n",
            "  (dropout2): Dropout2d(p=0.5, inplace=False)\n",
            "  (fc1): Linear(in_features=9216, out_features=128, bias=True)\n",
            "  (fc2): Linear(in_features=128, out_features=10, bias=True)\n",
            ")\n"
          ]
        }
      ]
    },
    {
      "cell_type": "code",
      "source": [
        "# we still do normalization, but we don't augment\n",
        "from src.dataloader import TrainLoader, TestLoader, TrainLoaderNormalized\n",
        "from src.utils import Parameters\n",
        "from scripts.train import train_model\n",
        "\n",
        "params = Parameters()\n",
        "train_loader_normalized = TrainLoaderNormalized()\n",
        "\n",
        "train_model(model_basic, params, train_loader_normalized)"
      ],
      "metadata": {
        "colab": {
          "base_uri": "https://localhost:8080/"
        },
        "id": "_Jh4vS7Pmom0",
        "outputId": "94505bcb-8c9e-4043-a4c4-5285fb3c6592"
      },
      "execution_count": 3,
      "outputs": [
        {
          "output_type": "stream",
          "name": "stderr",
          "text": [
            "/usr/local/lib/python3.8/dist-packages/torch/nn/functional.py:1331: UserWarning: dropout2d: Received a 2-D input to dropout2d, which is deprecated and will result in an error in a future release. To retain the behavior and silence this warning, please use dropout instead. Note that dropout2d exists to provide channel-wise dropout on inputs with 2 spatial dimensions, a channel dimension, and an optional batch dimension (i.e. 3D or 4D inputs).\n",
            "  warnings.warn(warn_msg)\n"
          ]
        },
        {
          "output_type": "stream",
          "name": "stdout",
          "text": [
            "Epoch: 1 \tTraining Loss: 0.4110\n",
            "Epoch: 2 \tTraining Loss: 0.2031\n",
            "Epoch: 3 \tTraining Loss: 0.1478\n",
            "Epoch: 4 \tTraining Loss: 0.1157\n",
            "Epoch: 5 \tTraining Loss: 0.0953\n",
            "Epoch: 6 \tTraining Loss: 0.0830\n",
            "Epoch: 7 \tTraining Loss: 0.0735\n",
            "Epoch: 8 \tTraining Loss: 0.0662\n",
            "Epoch: 9 \tTraining Loss: 0.0606\n",
            "Epoch: 10 \tTraining Loss: 0.0566\n"
          ]
        }
      ]
    },
    {
      "cell_type": "code",
      "source": [
        "from scripts.eval import test_model\n",
        "from src.dataloader import TestLoader\n",
        "\n",
        "test_loader = TestLoader()\n",
        "test_model(model_basic, test_loader)"
      ],
      "metadata": {
        "colab": {
          "base_uri": "https://localhost:8080/"
        },
        "id": "FPmq1kEonYHb",
        "outputId": "0cc66716-557c-4388-ac7c-87c25486fb6a"
      },
      "execution_count": 4,
      "outputs": [
        {
          "output_type": "stream",
          "name": "stdout",
          "text": [
            "Test Loss: 0.037741\n",
            "\n",
            "Test Accuracy of     0: 99% (974/980)\n",
            "Test Accuracy of     1: 99% (1130/1135)\n",
            "Test Accuracy of     2: 98% (1021/1032)\n",
            "Test Accuracy of     3: 99% (1001/1010)\n",
            "Test Accuracy of     4: 98% (972/982)\n",
            "Test Accuracy of     5: 98% (882/892)\n",
            "Test Accuracy of     6: 98% (943/958)\n",
            "Test Accuracy of     7: 98% (1014/1028)\n",
            "Test Accuracy of     8: 98% (961/974)\n",
            "Test Accuracy of     9: 96% (972/1009)\n",
            "\n",
            "Test Accuracy (Overall): 98% (9870/10000)\n"
          ]
        }
      ]
    },
    {
      "cell_type": "markdown",
      "source": [
        "## Part 2: How to handle Updates?"
      ],
      "metadata": {
        "id": "SE540RSEnyUL"
      }
    },
    {
      "cell_type": "markdown",
      "source": [
        "Let's say we noticed that `dropout2d` is deprecated and we want to update our code. We also would like to test a more efficient model architecture without straightup deleting all the code we have already written. This is where `Branching` comes into play."
      ],
      "metadata": {
        "id": "5CnS3mE6n5Q6"
      }
    },
    {
      "cell_type": "code",
      "source": [
        "# first we pull the changes from the `update_models` branch: \n",
        "# https://github.com/benearnthof/open_science_mnist/blob/update_models/src/models.py\n",
        "# pulling first to make sure the branch is on the tree\n",
        "!git pull"
      ],
      "metadata": {
        "id": "LfrA5fI_0jru",
        "colab": {
          "base_uri": "https://localhost:8080/"
        },
        "outputId": "b2f0811b-676c-4c83-8bdc-0aea5771bc25"
      },
      "execution_count": 5,
      "outputs": [
        {
          "output_type": "stream",
          "name": "stdout",
          "text": [
            "Already up to date.\n"
          ]
        }
      ]
    },
    {
      "cell_type": "code",
      "source": [
        "# switch branch to update_models\n",
        "!git checkout update_models"
      ],
      "metadata": {
        "colab": {
          "base_uri": "https://localhost:8080/"
        },
        "id": "bLGJWCWUxRG0",
        "outputId": "8b3cd1de-f039-49e7-d0b0-2fc15b709b6d"
      },
      "execution_count": 6,
      "outputs": [
        {
          "output_type": "stream",
          "name": "stdout",
          "text": [
            "Branch 'update_models' set up to track remote branch 'update_models' from 'origin'.\n",
            "Switched to a new branch 'update_models'\n"
          ]
        }
      ]
    },
    {
      "cell_type": "code",
      "source": [
        "!git status"
      ],
      "metadata": {
        "colab": {
          "base_uri": "https://localhost:8080/"
        },
        "id": "imDdo4jLx2f9",
        "outputId": "d92f182f-c512-4cc1-d1f4-5c63be5329c0"
      },
      "execution_count": 7,
      "outputs": [
        {
          "output_type": "stream",
          "name": "stdout",
          "text": [
            "On branch update_models\n",
            "Your branch is up to date with 'origin/update_models'.\n",
            "\n",
            "Untracked files:\n",
            "  (use \"git add <file>...\" to include in what will be committed)\n",
            "\t\u001b[31mscripts/__pycache__/\u001b[m\n",
            "\t\u001b[31msrc/__pycache__/\u001b[m\n",
            "\n",
            "nothing added to commit but untracked files present (use \"git add\" to track)\n"
          ]
        }
      ]
    },
    {
      "cell_type": "code",
      "source": [
        "# restarting out python session to reset model parameters\n",
        "exit()\n",
        "# wait for the runtime to reconnect"
      ],
      "metadata": {
        "id": "0I7JuUjDyodt"
      },
      "execution_count": 8,
      "outputs": []
    },
    {
      "cell_type": "code",
      "source": [
        "%cd /content/open_science_mnist\n",
        "!pwd"
      ],
      "metadata": {
        "colab": {
          "base_uri": "https://localhost:8080/"
        },
        "id": "giBnMiVKy0s9",
        "outputId": "1663e1ff-3e7d-4c22-af1d-cb104e5d2089"
      },
      "execution_count": 1,
      "outputs": [
        {
          "output_type": "stream",
          "name": "stdout",
          "text": [
            "/content/open_science_mnist\n",
            "/content/open_science_mnist\n"
          ]
        }
      ]
    },
    {
      "cell_type": "code",
      "source": [
        "# now lets train a model with the updated model architecture\n",
        "# setting seeds again in case you want to train in multiple sessions\n",
        "# setting up the random seeds of torch, numpy and pythons random module\n",
        "import random\n",
        "import torch\n",
        "import numpy\n",
        "random.seed(2023)\n",
        "torch.manual_seed(2023)\n",
        "numpy.random.seed(2023)"
      ],
      "metadata": {
        "id": "rfXtbds_x8m5"
      },
      "execution_count": 2,
      "outputs": []
    },
    {
      "cell_type": "code",
      "source": [
        "# setting up the dataloader again, with augmentation\n",
        "from src.dataloader import TrainLoader, TestLoader\n",
        "train_loader = TrainLoader()"
      ],
      "metadata": {
        "id": "_mG6VsC3zxah"
      },
      "execution_count": 3,
      "outputs": []
    },
    {
      "cell_type": "code",
      "source": [
        "# this model does not have dropout anymore\n",
        "from src.models import ConvNet, FCNet\n",
        "model_new = ConvNet()\n",
        "print(model_new)"
      ],
      "metadata": {
        "colab": {
          "base_uri": "https://localhost:8080/"
        },
        "id": "xCj3pXunx_pc",
        "outputId": "f40d8408-d00a-413f-d462-0a58b60c6cb8"
      },
      "execution_count": 4,
      "outputs": [
        {
          "output_type": "stream",
          "name": "stdout",
          "text": [
            "ConvNet(\n",
            "  (conv1): Conv2d(1, 24, kernel_size=(5, 5), stride=(1, 1))\n",
            "  (conv2): Conv2d(24, 32, kernel_size=(3, 3), stride=(1, 1))\n",
            "  (fc1): Linear(in_features=800, out_features=256, bias=True)\n",
            "  (fc2): Linear(in_features=256, out_features=10, bias=True)\n",
            ")\n"
          ]
        }
      ]
    },
    {
      "cell_type": "code",
      "source": [
        "# only the training parameters are missing\n",
        "from src.utils import Parameters\n",
        "from scripts.train import train_model\n",
        "\n",
        "params = Parameters()\n",
        "\n",
        "train_model(model_new, params, train_loader)"
      ],
      "metadata": {
        "colab": {
          "base_uri": "https://localhost:8080/"
        },
        "id": "P7Zn3bLI0DwW",
        "outputId": "ea3d39b7-bef8-4c70-ee53-fa86b24b4fc9"
      },
      "execution_count": 5,
      "outputs": [
        {
          "output_type": "stream",
          "name": "stdout",
          "text": [
            "Epoch: 1 \tTraining Loss: 1.0123\n",
            "Epoch: 2 \tTraining Loss: 0.4497\n",
            "Epoch: 3 \tTraining Loss: 0.2952\n",
            "Epoch: 4 \tTraining Loss: 0.2273\n",
            "Epoch: 5 \tTraining Loss: 0.1944\n",
            "Epoch: 6 \tTraining Loss: 0.1681\n",
            "Epoch: 7 \tTraining Loss: 0.1521\n",
            "Epoch: 8 \tTraining Loss: 0.1398\n",
            "Epoch: 9 \tTraining Loss: 0.1319\n",
            "Epoch: 10 \tTraining Loss: 0.1227\n"
          ]
        }
      ]
    },
    {
      "cell_type": "code",
      "source": [
        "from scripts.eval import test_model\n",
        "from src.dataloader import TestLoader\n",
        "\n",
        "test_loader = TestLoader()\n",
        "test_model(model_new, test_loader)"
      ],
      "metadata": {
        "colab": {
          "base_uri": "https://localhost:8080/"
        },
        "id": "J_cLOTWX0haV",
        "outputId": "973fbbaf-aa02-442d-faf5-af0772fad367"
      },
      "execution_count": 6,
      "outputs": [
        {
          "output_type": "stream",
          "name": "stdout",
          "text": [
            "Test Loss: 0.081499\n",
            "\n",
            "Test Accuracy of     0: 98% (970/980)\n",
            "Test Accuracy of     1: 99% (1128/1135)\n",
            "Test Accuracy of     2: 94% (978/1032)\n",
            "Test Accuracy of     3: 98% (993/1010)\n",
            "Test Accuracy of     4: 97% (962/982)\n",
            "Test Accuracy of     5: 96% (860/892)\n",
            "Test Accuracy of     6: 96% (920/958)\n",
            "Test Accuracy of     7: 97% (1002/1028)\n",
            "Test Accuracy of     8: 98% (960/974)\n",
            "Test Accuracy of     9: 95% (966/1009)\n",
            "\n",
            "Test Accuracy (Overall): 97% (9739/10000)\n"
          ]
        }
      ]
    },
    {
      "cell_type": "code",
      "source": [
        "# to install individual packages:\n",
        "# !pipenv install albumentations\n",
        "# !pipenv graph"
      ],
      "metadata": {
        "id": "XDvfUQfyEW8h"
      },
      "execution_count": 7,
      "outputs": []
    }
  ]
}
